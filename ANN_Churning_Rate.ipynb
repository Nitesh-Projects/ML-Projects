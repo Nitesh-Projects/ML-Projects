{
  "nbformat": 4,
  "nbformat_minor": 0,
  "metadata": {
    "colab": {
      "name": "ANN_Churning_Rate.ipynb",
      "provenance": [],
      "collapsed_sections": [],
      "authorship_tag": "ABX9TyMnnJfdU/v2DXmm37Yuk1UX",
      "include_colab_link": true
    },
    "kernelspec": {
      "name": "python3",
      "display_name": "Python 3"
    }
  },
  "cells": [
    {
      "cell_type": "markdown",
      "metadata": {
        "id": "view-in-github",
        "colab_type": "text"
      },
      "source": [
        "<a href=\"https://colab.research.google.com/github/Nitesh-Projects/ML-Projects/blob/master/ANN_Churning_Rate.ipynb\" target=\"_parent\"><img src=\"https://colab.research.google.com/assets/colab-badge.svg\" alt=\"Open In Colab\"/></a>"
      ]
    },
    {
      "cell_type": "code",
      "metadata": {
        "id": "EZcJP4VwqJeM",
        "colab_type": "code",
        "colab": {}
      },
      "source": [
        "import numpy as np"
      ],
      "execution_count": null,
      "outputs": []
    },
    {
      "cell_type": "code",
      "metadata": {
        "id": "vAXUifrbqTde",
        "colab_type": "code",
        "colab": {}
      },
      "source": [
        "import pandas as pd"
      ],
      "execution_count": null,
      "outputs": []
    },
    {
      "cell_type": "code",
      "metadata": {
        "id": "MeuP7c32q748",
        "colab_type": "code",
        "colab": {}
      },
      "source": [
        "import matplotlib.pyplot as plt\n"
      ],
      "execution_count": null,
      "outputs": []
    },
    {
      "cell_type": "code",
      "metadata": {
        "id": "1HlvGk6hsNMT",
        "colab_type": "code",
        "colab": {
          "resources": {
            "http://localhost:8080/nbextensions/google.colab/files.js": {
              "data": "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",
              "ok": true,
              "headers": [
                [
                  "content-type",
                  "application/javascript"
                ]
              ],
              "status": 200,
              "status_text": ""
            }
          },
          "base_uri": "https://localhost:8080/",
          "height": 72
        },
        "outputId": "1be01f0e-972c-4f8e-b73c-2a614bf89ab1"
      },
      "source": [
        "from google.colab import files\n",
        "uploaded = files.upload()"
      ],
      "execution_count": null,
      "outputs": [
        {
          "output_type": "display_data",
          "data": {
            "text/html": [
              "\n",
              "     <input type=\"file\" id=\"files-f0ce034f-22a7-46ad-975e-668717f6e4a1\" name=\"files[]\" multiple disabled\n",
              "        style=\"border:none\" />\n",
              "     <output id=\"result-f0ce034f-22a7-46ad-975e-668717f6e4a1\">\n",
              "      Upload widget is only available when the cell has been executed in the\n",
              "      current browser session. Please rerun this cell to enable.\n",
              "      </output>\n",
              "      <script src=\"/nbextensions/google.colab/files.js\"></script> "
            ],
            "text/plain": [
              "<IPython.core.display.HTML object>"
            ]
          },
          "metadata": {
            "tags": []
          }
        },
        {
          "output_type": "stream",
          "text": [
            "Saving ANN_Churn_Modelling.csv to ANN_Churn_Modelling.csv\n"
          ],
          "name": "stdout"
        }
      ]
    },
    {
      "cell_type": "code",
      "metadata": {
        "id": "X_d2GhNTsd2X",
        "colab_type": "code",
        "colab": {}
      },
      "source": [
        "import io\n",
        "df2 = pd.read_csv(io.BytesIO(uploaded['ANN_Churn_Modelling.csv']))"
      ],
      "execution_count": null,
      "outputs": []
    },
    {
      "cell_type": "code",
      "metadata": {
        "id": "Sa-kPRR9vmfq",
        "colab_type": "code",
        "colab": {
          "base_uri": "https://localhost:8080/",
          "height": 374
        },
        "outputId": "ae2ace96-f1b4-485d-94b0-a827834fb69d"
      },
      "source": [
        "df2.info()"
      ],
      "execution_count": null,
      "outputs": [
        {
          "output_type": "stream",
          "text": [
            "<class 'pandas.core.frame.DataFrame'>\n",
            "RangeIndex: 10000 entries, 0 to 9999\n",
            "Data columns (total 14 columns):\n",
            " #   Column           Non-Null Count  Dtype  \n",
            "---  ------           --------------  -----  \n",
            " 0   RowNumber        10000 non-null  int64  \n",
            " 1   CustomerId       10000 non-null  int64  \n",
            " 2   Surname          10000 non-null  object \n",
            " 3   CreditScore      10000 non-null  int64  \n",
            " 4   Geography        10000 non-null  object \n",
            " 5   Gender           10000 non-null  object \n",
            " 6   Age              10000 non-null  int64  \n",
            " 7   Tenure           10000 non-null  int64  \n",
            " 8   Balance          10000 non-null  float64\n",
            " 9   NumOfProducts    10000 non-null  int64  \n",
            " 10  HasCrCard        10000 non-null  int64  \n",
            " 11  IsActiveMember   10000 non-null  int64  \n",
            " 12  EstimatedSalary  10000 non-null  float64\n",
            " 13  Exited           10000 non-null  int64  \n",
            "dtypes: float64(2), int64(9), object(3)\n",
            "memory usage: 1.1+ MB\n"
          ],
          "name": "stdout"
        }
      ]
    },
    {
      "cell_type": "code",
      "metadata": {
        "id": "3gNF3Px4yPiQ",
        "colab_type": "code",
        "colab": {
          "base_uri": "https://localhost:8080/",
          "height": 34
        },
        "outputId": "66448f7f-0e36-4439-825b-ed1eb9937e05"
      },
      "source": [
        "df2.shape"
      ],
      "execution_count": null,
      "outputs": [
        {
          "output_type": "execute_result",
          "data": {
            "text/plain": [
              "(10000, 14)"
            ]
          },
          "metadata": {
            "tags": []
          },
          "execution_count": 42
        }
      ]
    },
    {
      "cell_type": "code",
      "metadata": {
        "id": "XQ0U43x7ySzu",
        "colab_type": "code",
        "colab": {
          "base_uri": "https://localhost:8080/",
          "height": 272
        },
        "outputId": "80a9d996-a29f-468c-b2ae-4ff0be9ff036"
      },
      "source": [
        "df2.isnull().sum(axis = 0)"
      ],
      "execution_count": null,
      "outputs": [
        {
          "output_type": "execute_result",
          "data": {
            "text/plain": [
              "RowNumber          0\n",
              "CustomerId         0\n",
              "Surname            0\n",
              "CreditScore        0\n",
              "Geography          0\n",
              "Gender             0\n",
              "Age                0\n",
              "Tenure             0\n",
              "Balance            0\n",
              "NumOfProducts      0\n",
              "HasCrCard          0\n",
              "IsActiveMember     0\n",
              "EstimatedSalary    0\n",
              "Exited             0\n",
              "dtype: int64"
            ]
          },
          "metadata": {
            "tags": []
          },
          "execution_count": 43
        }
      ]
    },
    {
      "cell_type": "code",
      "metadata": {
        "id": "JgDGghXNybXl",
        "colab_type": "code",
        "colab": {}
      },
      "source": [
        "x = df2.iloc[:,3:13]"
      ],
      "execution_count": null,
      "outputs": []
    },
    {
      "cell_type": "code",
      "metadata": {
        "id": "LPd5B2Lcysoo",
        "colab_type": "code",
        "colab": {
          "base_uri": "https://localhost:8080/",
          "height": 204
        },
        "outputId": "3f36dd45-91c2-4e22-a44f-f62edd5aca5f"
      },
      "source": [
        "x.head()"
      ],
      "execution_count": null,
      "outputs": [
        {
          "output_type": "execute_result",
          "data": {
            "text/html": [
              "<div>\n",
              "<style scoped>\n",
              "    .dataframe tbody tr th:only-of-type {\n",
              "        vertical-align: middle;\n",
              "    }\n",
              "\n",
              "    .dataframe tbody tr th {\n",
              "        vertical-align: top;\n",
              "    }\n",
              "\n",
              "    .dataframe thead th {\n",
              "        text-align: right;\n",
              "    }\n",
              "</style>\n",
              "<table border=\"1\" class=\"dataframe\">\n",
              "  <thead>\n",
              "    <tr style=\"text-align: right;\">\n",
              "      <th></th>\n",
              "      <th>CreditScore</th>\n",
              "      <th>Geography</th>\n",
              "      <th>Gender</th>\n",
              "      <th>Age</th>\n",
              "      <th>Tenure</th>\n",
              "      <th>Balance</th>\n",
              "      <th>NumOfProducts</th>\n",
              "      <th>HasCrCard</th>\n",
              "      <th>IsActiveMember</th>\n",
              "      <th>EstimatedSalary</th>\n",
              "    </tr>\n",
              "  </thead>\n",
              "  <tbody>\n",
              "    <tr>\n",
              "      <th>0</th>\n",
              "      <td>619</td>\n",
              "      <td>France</td>\n",
              "      <td>Female</td>\n",
              "      <td>42</td>\n",
              "      <td>2</td>\n",
              "      <td>0.00</td>\n",
              "      <td>1</td>\n",
              "      <td>1</td>\n",
              "      <td>1</td>\n",
              "      <td>101348.88</td>\n",
              "    </tr>\n",
              "    <tr>\n",
              "      <th>1</th>\n",
              "      <td>608</td>\n",
              "      <td>Spain</td>\n",
              "      <td>Female</td>\n",
              "      <td>41</td>\n",
              "      <td>1</td>\n",
              "      <td>83807.86</td>\n",
              "      <td>1</td>\n",
              "      <td>0</td>\n",
              "      <td>1</td>\n",
              "      <td>112542.58</td>\n",
              "    </tr>\n",
              "    <tr>\n",
              "      <th>2</th>\n",
              "      <td>502</td>\n",
              "      <td>France</td>\n",
              "      <td>Female</td>\n",
              "      <td>42</td>\n",
              "      <td>8</td>\n",
              "      <td>159660.80</td>\n",
              "      <td>3</td>\n",
              "      <td>1</td>\n",
              "      <td>0</td>\n",
              "      <td>113931.57</td>\n",
              "    </tr>\n",
              "    <tr>\n",
              "      <th>3</th>\n",
              "      <td>699</td>\n",
              "      <td>France</td>\n",
              "      <td>Female</td>\n",
              "      <td>39</td>\n",
              "      <td>1</td>\n",
              "      <td>0.00</td>\n",
              "      <td>2</td>\n",
              "      <td>0</td>\n",
              "      <td>0</td>\n",
              "      <td>93826.63</td>\n",
              "    </tr>\n",
              "    <tr>\n",
              "      <th>4</th>\n",
              "      <td>850</td>\n",
              "      <td>Spain</td>\n",
              "      <td>Female</td>\n",
              "      <td>43</td>\n",
              "      <td>2</td>\n",
              "      <td>125510.82</td>\n",
              "      <td>1</td>\n",
              "      <td>1</td>\n",
              "      <td>1</td>\n",
              "      <td>79084.10</td>\n",
              "    </tr>\n",
              "  </tbody>\n",
              "</table>\n",
              "</div>"
            ],
            "text/plain": [
              "   CreditScore Geography  Gender  ...  HasCrCard  IsActiveMember  EstimatedSalary\n",
              "0          619    France  Female  ...          1               1        101348.88\n",
              "1          608     Spain  Female  ...          0               1        112542.58\n",
              "2          502    France  Female  ...          1               0        113931.57\n",
              "3          699    France  Female  ...          0               0         93826.63\n",
              "4          850     Spain  Female  ...          1               1         79084.10\n",
              "\n",
              "[5 rows x 10 columns]"
            ]
          },
          "metadata": {
            "tags": []
          },
          "execution_count": 45
        }
      ]
    },
    {
      "cell_type": "code",
      "metadata": {
        "id": "EDzN0-zUyxp_",
        "colab_type": "code",
        "colab": {}
      },
      "source": [
        "y = df2.iloc[:,13]"
      ],
      "execution_count": null,
      "outputs": []
    },
    {
      "cell_type": "code",
      "metadata": {
        "id": "FSstkGFKzEz2",
        "colab_type": "code",
        "colab": {
          "base_uri": "https://localhost:8080/",
          "height": 221
        },
        "outputId": "d5528826-5599-4a07-f02d-f635fcb13955"
      },
      "source": [
        "y"
      ],
      "execution_count": null,
      "outputs": [
        {
          "output_type": "execute_result",
          "data": {
            "text/plain": [
              "0       1\n",
              "1       0\n",
              "2       1\n",
              "3       0\n",
              "4       0\n",
              "       ..\n",
              "9995    0\n",
              "9996    0\n",
              "9997    1\n",
              "9998    1\n",
              "9999    0\n",
              "Name: Exited, Length: 10000, dtype: int64"
            ]
          },
          "metadata": {
            "tags": []
          },
          "execution_count": 47
        }
      ]
    },
    {
      "cell_type": "code",
      "metadata": {
        "id": "Yu1gziY3zGHw",
        "colab_type": "code",
        "colab": {}
      },
      "source": [
        "Geography = pd.get_dummies(x['Geography'],drop_first=True)"
      ],
      "execution_count": null,
      "outputs": []
    },
    {
      "cell_type": "code",
      "metadata": {
        "id": "iRELIlFezzRX",
        "colab_type": "code",
        "colab": {
          "base_uri": "https://localhost:8080/",
          "height": 419
        },
        "outputId": "08132575-7746-4107-b39f-9b3ed1d5cccb"
      },
      "source": [
        "Geography"
      ],
      "execution_count": null,
      "outputs": [
        {
          "output_type": "execute_result",
          "data": {
            "text/html": [
              "<div>\n",
              "<style scoped>\n",
              "    .dataframe tbody tr th:only-of-type {\n",
              "        vertical-align: middle;\n",
              "    }\n",
              "\n",
              "    .dataframe tbody tr th {\n",
              "        vertical-align: top;\n",
              "    }\n",
              "\n",
              "    .dataframe thead th {\n",
              "        text-align: right;\n",
              "    }\n",
              "</style>\n",
              "<table border=\"1\" class=\"dataframe\">\n",
              "  <thead>\n",
              "    <tr style=\"text-align: right;\">\n",
              "      <th></th>\n",
              "      <th>Germany</th>\n",
              "      <th>Spain</th>\n",
              "    </tr>\n",
              "  </thead>\n",
              "  <tbody>\n",
              "    <tr>\n",
              "      <th>0</th>\n",
              "      <td>0</td>\n",
              "      <td>0</td>\n",
              "    </tr>\n",
              "    <tr>\n",
              "      <th>1</th>\n",
              "      <td>0</td>\n",
              "      <td>1</td>\n",
              "    </tr>\n",
              "    <tr>\n",
              "      <th>2</th>\n",
              "      <td>0</td>\n",
              "      <td>0</td>\n",
              "    </tr>\n",
              "    <tr>\n",
              "      <th>3</th>\n",
              "      <td>0</td>\n",
              "      <td>0</td>\n",
              "    </tr>\n",
              "    <tr>\n",
              "      <th>4</th>\n",
              "      <td>0</td>\n",
              "      <td>1</td>\n",
              "    </tr>\n",
              "    <tr>\n",
              "      <th>...</th>\n",
              "      <td>...</td>\n",
              "      <td>...</td>\n",
              "    </tr>\n",
              "    <tr>\n",
              "      <th>9995</th>\n",
              "      <td>0</td>\n",
              "      <td>0</td>\n",
              "    </tr>\n",
              "    <tr>\n",
              "      <th>9996</th>\n",
              "      <td>0</td>\n",
              "      <td>0</td>\n",
              "    </tr>\n",
              "    <tr>\n",
              "      <th>9997</th>\n",
              "      <td>0</td>\n",
              "      <td>0</td>\n",
              "    </tr>\n",
              "    <tr>\n",
              "      <th>9998</th>\n",
              "      <td>1</td>\n",
              "      <td>0</td>\n",
              "    </tr>\n",
              "    <tr>\n",
              "      <th>9999</th>\n",
              "      <td>0</td>\n",
              "      <td>0</td>\n",
              "    </tr>\n",
              "  </tbody>\n",
              "</table>\n",
              "<p>10000 rows × 2 columns</p>\n",
              "</div>"
            ],
            "text/plain": [
              "      Germany  Spain\n",
              "0           0      0\n",
              "1           0      1\n",
              "2           0      0\n",
              "3           0      0\n",
              "4           0      1\n",
              "...       ...    ...\n",
              "9995        0      0\n",
              "9996        0      0\n",
              "9997        0      0\n",
              "9998        1      0\n",
              "9999        0      0\n",
              "\n",
              "[10000 rows x 2 columns]"
            ]
          },
          "metadata": {
            "tags": []
          },
          "execution_count": 49
        }
      ]
    },
    {
      "cell_type": "code",
      "metadata": {
        "id": "KLSQsNWyz06Y",
        "colab_type": "code",
        "colab": {}
      },
      "source": [
        "gender=pd.get_dummies(x['Gender'],drop_first=True)"
      ],
      "execution_count": null,
      "outputs": []
    },
    {
      "cell_type": "code",
      "metadata": {
        "id": "NWj6z0sSz-bk",
        "colab_type": "code",
        "colab": {
          "base_uri": "https://localhost:8080/",
          "height": 419
        },
        "outputId": "998156dd-59d4-4772-ddc5-383b8c3c2b71"
      },
      "source": [
        "gender"
      ],
      "execution_count": null,
      "outputs": [
        {
          "output_type": "execute_result",
          "data": {
            "text/html": [
              "<div>\n",
              "<style scoped>\n",
              "    .dataframe tbody tr th:only-of-type {\n",
              "        vertical-align: middle;\n",
              "    }\n",
              "\n",
              "    .dataframe tbody tr th {\n",
              "        vertical-align: top;\n",
              "    }\n",
              "\n",
              "    .dataframe thead th {\n",
              "        text-align: right;\n",
              "    }\n",
              "</style>\n",
              "<table border=\"1\" class=\"dataframe\">\n",
              "  <thead>\n",
              "    <tr style=\"text-align: right;\">\n",
              "      <th></th>\n",
              "      <th>Male</th>\n",
              "    </tr>\n",
              "  </thead>\n",
              "  <tbody>\n",
              "    <tr>\n",
              "      <th>0</th>\n",
              "      <td>0</td>\n",
              "    </tr>\n",
              "    <tr>\n",
              "      <th>1</th>\n",
              "      <td>0</td>\n",
              "    </tr>\n",
              "    <tr>\n",
              "      <th>2</th>\n",
              "      <td>0</td>\n",
              "    </tr>\n",
              "    <tr>\n",
              "      <th>3</th>\n",
              "      <td>0</td>\n",
              "    </tr>\n",
              "    <tr>\n",
              "      <th>4</th>\n",
              "      <td>0</td>\n",
              "    </tr>\n",
              "    <tr>\n",
              "      <th>...</th>\n",
              "      <td>...</td>\n",
              "    </tr>\n",
              "    <tr>\n",
              "      <th>9995</th>\n",
              "      <td>1</td>\n",
              "    </tr>\n",
              "    <tr>\n",
              "      <th>9996</th>\n",
              "      <td>1</td>\n",
              "    </tr>\n",
              "    <tr>\n",
              "      <th>9997</th>\n",
              "      <td>0</td>\n",
              "    </tr>\n",
              "    <tr>\n",
              "      <th>9998</th>\n",
              "      <td>1</td>\n",
              "    </tr>\n",
              "    <tr>\n",
              "      <th>9999</th>\n",
              "      <td>0</td>\n",
              "    </tr>\n",
              "  </tbody>\n",
              "</table>\n",
              "<p>10000 rows × 1 columns</p>\n",
              "</div>"
            ],
            "text/plain": [
              "      Male\n",
              "0        0\n",
              "1        0\n",
              "2        0\n",
              "3        0\n",
              "4        0\n",
              "...    ...\n",
              "9995     1\n",
              "9996     1\n",
              "9997     0\n",
              "9998     1\n",
              "9999     0\n",
              "\n",
              "[10000 rows x 1 columns]"
            ]
          },
          "metadata": {
            "tags": []
          },
          "execution_count": 51
        }
      ]
    },
    {
      "cell_type": "code",
      "metadata": {
        "id": "E4x-Q0PP0CNB",
        "colab_type": "code",
        "colab": {}
      },
      "source": [
        "x = pd.concat([x,Geography,gender],axis =1)"
      ],
      "execution_count": null,
      "outputs": []
    },
    {
      "cell_type": "code",
      "metadata": {
        "id": "pvu0611i0XdX",
        "colab_type": "code",
        "colab": {
          "base_uri": "https://localhost:8080/",
          "height": 204
        },
        "outputId": "6539952d-9b26-497a-f17a-c20ae964fc87"
      },
      "source": [
        "x.head()"
      ],
      "execution_count": null,
      "outputs": [
        {
          "output_type": "execute_result",
          "data": {
            "text/html": [
              "<div>\n",
              "<style scoped>\n",
              "    .dataframe tbody tr th:only-of-type {\n",
              "        vertical-align: middle;\n",
              "    }\n",
              "\n",
              "    .dataframe tbody tr th {\n",
              "        vertical-align: top;\n",
              "    }\n",
              "\n",
              "    .dataframe thead th {\n",
              "        text-align: right;\n",
              "    }\n",
              "</style>\n",
              "<table border=\"1\" class=\"dataframe\">\n",
              "  <thead>\n",
              "    <tr style=\"text-align: right;\">\n",
              "      <th></th>\n",
              "      <th>CreditScore</th>\n",
              "      <th>Geography</th>\n",
              "      <th>Gender</th>\n",
              "      <th>Age</th>\n",
              "      <th>Tenure</th>\n",
              "      <th>Balance</th>\n",
              "      <th>NumOfProducts</th>\n",
              "      <th>HasCrCard</th>\n",
              "      <th>IsActiveMember</th>\n",
              "      <th>EstimatedSalary</th>\n",
              "      <th>Germany</th>\n",
              "      <th>Spain</th>\n",
              "      <th>Male</th>\n",
              "    </tr>\n",
              "  </thead>\n",
              "  <tbody>\n",
              "    <tr>\n",
              "      <th>0</th>\n",
              "      <td>619</td>\n",
              "      <td>France</td>\n",
              "      <td>Female</td>\n",
              "      <td>42</td>\n",
              "      <td>2</td>\n",
              "      <td>0.00</td>\n",
              "      <td>1</td>\n",
              "      <td>1</td>\n",
              "      <td>1</td>\n",
              "      <td>101348.88</td>\n",
              "      <td>0</td>\n",
              "      <td>0</td>\n",
              "      <td>0</td>\n",
              "    </tr>\n",
              "    <tr>\n",
              "      <th>1</th>\n",
              "      <td>608</td>\n",
              "      <td>Spain</td>\n",
              "      <td>Female</td>\n",
              "      <td>41</td>\n",
              "      <td>1</td>\n",
              "      <td>83807.86</td>\n",
              "      <td>1</td>\n",
              "      <td>0</td>\n",
              "      <td>1</td>\n",
              "      <td>112542.58</td>\n",
              "      <td>0</td>\n",
              "      <td>1</td>\n",
              "      <td>0</td>\n",
              "    </tr>\n",
              "    <tr>\n",
              "      <th>2</th>\n",
              "      <td>502</td>\n",
              "      <td>France</td>\n",
              "      <td>Female</td>\n",
              "      <td>42</td>\n",
              "      <td>8</td>\n",
              "      <td>159660.80</td>\n",
              "      <td>3</td>\n",
              "      <td>1</td>\n",
              "      <td>0</td>\n",
              "      <td>113931.57</td>\n",
              "      <td>0</td>\n",
              "      <td>0</td>\n",
              "      <td>0</td>\n",
              "    </tr>\n",
              "    <tr>\n",
              "      <th>3</th>\n",
              "      <td>699</td>\n",
              "      <td>France</td>\n",
              "      <td>Female</td>\n",
              "      <td>39</td>\n",
              "      <td>1</td>\n",
              "      <td>0.00</td>\n",
              "      <td>2</td>\n",
              "      <td>0</td>\n",
              "      <td>0</td>\n",
              "      <td>93826.63</td>\n",
              "      <td>0</td>\n",
              "      <td>0</td>\n",
              "      <td>0</td>\n",
              "    </tr>\n",
              "    <tr>\n",
              "      <th>4</th>\n",
              "      <td>850</td>\n",
              "      <td>Spain</td>\n",
              "      <td>Female</td>\n",
              "      <td>43</td>\n",
              "      <td>2</td>\n",
              "      <td>125510.82</td>\n",
              "      <td>1</td>\n",
              "      <td>1</td>\n",
              "      <td>1</td>\n",
              "      <td>79084.10</td>\n",
              "      <td>0</td>\n",
              "      <td>1</td>\n",
              "      <td>0</td>\n",
              "    </tr>\n",
              "  </tbody>\n",
              "</table>\n",
              "</div>"
            ],
            "text/plain": [
              "   CreditScore Geography  Gender  Age  ...  EstimatedSalary  Germany  Spain  Male\n",
              "0          619    France  Female   42  ...        101348.88        0      0     0\n",
              "1          608     Spain  Female   41  ...        112542.58        0      1     0\n",
              "2          502    France  Female   42  ...        113931.57        0      0     0\n",
              "3          699    France  Female   39  ...         93826.63        0      0     0\n",
              "4          850     Spain  Female   43  ...         79084.10        0      1     0\n",
              "\n",
              "[5 rows x 13 columns]"
            ]
          },
          "metadata": {
            "tags": []
          },
          "execution_count": 53
        }
      ]
    },
    {
      "cell_type": "code",
      "metadata": {
        "id": "Tr7nlz3H0ZCh",
        "colab_type": "code",
        "colab": {}
      },
      "source": [
        "x = x.drop(['Geography','Gender'],axis=1)"
      ],
      "execution_count": null,
      "outputs": []
    },
    {
      "cell_type": "code",
      "metadata": {
        "id": "QVYi2gxx0qLZ",
        "colab_type": "code",
        "colab": {
          "base_uri": "https://localhost:8080/",
          "height": 204
        },
        "outputId": "e60359ce-5238-4cd1-d4a9-9360ac39fb7d"
      },
      "source": [
        "x.head()"
      ],
      "execution_count": null,
      "outputs": [
        {
          "output_type": "execute_result",
          "data": {
            "text/html": [
              "<div>\n",
              "<style scoped>\n",
              "    .dataframe tbody tr th:only-of-type {\n",
              "        vertical-align: middle;\n",
              "    }\n",
              "\n",
              "    .dataframe tbody tr th {\n",
              "        vertical-align: top;\n",
              "    }\n",
              "\n",
              "    .dataframe thead th {\n",
              "        text-align: right;\n",
              "    }\n",
              "</style>\n",
              "<table border=\"1\" class=\"dataframe\">\n",
              "  <thead>\n",
              "    <tr style=\"text-align: right;\">\n",
              "      <th></th>\n",
              "      <th>CreditScore</th>\n",
              "      <th>Age</th>\n",
              "      <th>Tenure</th>\n",
              "      <th>Balance</th>\n",
              "      <th>NumOfProducts</th>\n",
              "      <th>HasCrCard</th>\n",
              "      <th>IsActiveMember</th>\n",
              "      <th>EstimatedSalary</th>\n",
              "      <th>Germany</th>\n",
              "      <th>Spain</th>\n",
              "      <th>Male</th>\n",
              "    </tr>\n",
              "  </thead>\n",
              "  <tbody>\n",
              "    <tr>\n",
              "      <th>0</th>\n",
              "      <td>619</td>\n",
              "      <td>42</td>\n",
              "      <td>2</td>\n",
              "      <td>0.00</td>\n",
              "      <td>1</td>\n",
              "      <td>1</td>\n",
              "      <td>1</td>\n",
              "      <td>101348.88</td>\n",
              "      <td>0</td>\n",
              "      <td>0</td>\n",
              "      <td>0</td>\n",
              "    </tr>\n",
              "    <tr>\n",
              "      <th>1</th>\n",
              "      <td>608</td>\n",
              "      <td>41</td>\n",
              "      <td>1</td>\n",
              "      <td>83807.86</td>\n",
              "      <td>1</td>\n",
              "      <td>0</td>\n",
              "      <td>1</td>\n",
              "      <td>112542.58</td>\n",
              "      <td>0</td>\n",
              "      <td>1</td>\n",
              "      <td>0</td>\n",
              "    </tr>\n",
              "    <tr>\n",
              "      <th>2</th>\n",
              "      <td>502</td>\n",
              "      <td>42</td>\n",
              "      <td>8</td>\n",
              "      <td>159660.80</td>\n",
              "      <td>3</td>\n",
              "      <td>1</td>\n",
              "      <td>0</td>\n",
              "      <td>113931.57</td>\n",
              "      <td>0</td>\n",
              "      <td>0</td>\n",
              "      <td>0</td>\n",
              "    </tr>\n",
              "    <tr>\n",
              "      <th>3</th>\n",
              "      <td>699</td>\n",
              "      <td>39</td>\n",
              "      <td>1</td>\n",
              "      <td>0.00</td>\n",
              "      <td>2</td>\n",
              "      <td>0</td>\n",
              "      <td>0</td>\n",
              "      <td>93826.63</td>\n",
              "      <td>0</td>\n",
              "      <td>0</td>\n",
              "      <td>0</td>\n",
              "    </tr>\n",
              "    <tr>\n",
              "      <th>4</th>\n",
              "      <td>850</td>\n",
              "      <td>43</td>\n",
              "      <td>2</td>\n",
              "      <td>125510.82</td>\n",
              "      <td>1</td>\n",
              "      <td>1</td>\n",
              "      <td>1</td>\n",
              "      <td>79084.10</td>\n",
              "      <td>0</td>\n",
              "      <td>1</td>\n",
              "      <td>0</td>\n",
              "    </tr>\n",
              "  </tbody>\n",
              "</table>\n",
              "</div>"
            ],
            "text/plain": [
              "   CreditScore  Age  Tenure    Balance  ...  EstimatedSalary  Germany  Spain  Male\n",
              "0          619   42       2       0.00  ...        101348.88        0      0     0\n",
              "1          608   41       1   83807.86  ...        112542.58        0      1     0\n",
              "2          502   42       8  159660.80  ...        113931.57        0      0     0\n",
              "3          699   39       1       0.00  ...         93826.63        0      0     0\n",
              "4          850   43       2  125510.82  ...         79084.10        0      1     0\n",
              "\n",
              "[5 rows x 11 columns]"
            ]
          },
          "metadata": {
            "tags": []
          },
          "execution_count": 55
        }
      ]
    },
    {
      "cell_type": "code",
      "metadata": {
        "id": "RwCfWirM0sQ8",
        "colab_type": "code",
        "colab": {}
      },
      "source": [
        "from sklearn.model_selection import train_test_split\n",
        "\n"
      ],
      "execution_count": null,
      "outputs": []
    },
    {
      "cell_type": "code",
      "metadata": {
        "id": "GS8APFg21CKM",
        "colab_type": "code",
        "colab": {}
      },
      "source": [
        "x_train,x_test,y_train,y_test = train_test_split(x,y,test_size = 0.20,random_state=0)"
      ],
      "execution_count": null,
      "outputs": []
    },
    {
      "cell_type": "code",
      "metadata": {
        "id": "TZQDn0N-1hwa",
        "colab_type": "code",
        "colab": {}
      },
      "source": [
        "from sklearn.preprocessing import StandardScaler"
      ],
      "execution_count": null,
      "outputs": []
    },
    {
      "cell_type": "code",
      "metadata": {
        "id": "AoskzsS41xs8",
        "colab_type": "code",
        "colab": {}
      },
      "source": [
        "sc = StandardScaler()"
      ],
      "execution_count": null,
      "outputs": []
    },
    {
      "cell_type": "code",
      "metadata": {
        "id": "D1ebSKZb2EYd",
        "colab_type": "code",
        "colab": {}
      },
      "source": [
        "x_train = sc.fit_transform(x_train)"
      ],
      "execution_count": null,
      "outputs": []
    },
    {
      "cell_type": "code",
      "metadata": {
        "id": "NAfkriLJ2Q_H",
        "colab_type": "code",
        "colab": {
          "base_uri": "https://localhost:8080/",
          "height": 238
        },
        "outputId": "75db155d-b503-4ef0-cf53-7a3fc26d5172"
      },
      "source": [
        "x_train"
      ],
      "execution_count": null,
      "outputs": [
        {
          "output_type": "execute_result",
          "data": {
            "text/plain": [
              "array([[ 0.16958176, -0.46460796,  0.00666099, ..., -0.5698444 ,\n",
              "         1.74309049, -1.09168714],\n",
              "       [-2.30455945,  0.30102557, -1.37744033, ...,  1.75486502,\n",
              "        -0.57369368,  0.91601335],\n",
              "       [-1.19119591, -0.94312892, -1.031415  , ..., -0.5698444 ,\n",
              "        -0.57369368, -1.09168714],\n",
              "       ...,\n",
              "       [ 0.9015152 , -0.36890377,  0.00666099, ..., -0.5698444 ,\n",
              "        -0.57369368,  0.91601335],\n",
              "       [-0.62420521, -0.08179119,  1.39076231, ..., -0.5698444 ,\n",
              "         1.74309049, -1.09168714],\n",
              "       [-0.28401079,  0.87525072, -1.37744033, ...,  1.75486502,\n",
              "        -0.57369368, -1.09168714]])"
            ]
          },
          "metadata": {
            "tags": []
          },
          "execution_count": 61
        }
      ]
    },
    {
      "cell_type": "code",
      "metadata": {
        "id": "LzrGoKnu2TLg",
        "colab_type": "code",
        "colab": {}
      },
      "source": [
        "x_test = sc.fit_transform(x_test)"
      ],
      "execution_count": null,
      "outputs": []
    },
    {
      "cell_type": "code",
      "metadata": {
        "id": "Z8ShSEIv2bJy",
        "colab_type": "code",
        "colab": {
          "base_uri": "https://localhost:8080/",
          "height": 238
        },
        "outputId": "b291f1c1-18cd-41fe-9422-9ad42f782bf2"
      },
      "source": [
        "x_test\n"
      ],
      "execution_count": null,
      "outputs": [
        {
          "output_type": "execute_result",
          "data": {
            "text/plain": [
              "array([[-0.56129438, -0.39401698,  0.9869706 , ...,  1.62776996,\n",
              "        -0.57427105, -1.11339196],\n",
              "       [-1.33847768,  0.07611425, -1.08432132, ..., -0.61433742,\n",
              "        -0.57427105, -1.11339196],\n",
              "       [ 0.58347561,  0.26416674,  0.9869706 , ..., -0.61433742,\n",
              "         1.74133801, -1.11339196],\n",
              "       ...,\n",
              "       [-0.76084144, -0.29999074, -1.42953664, ..., -0.61433742,\n",
              "         1.74133801,  0.8981563 ],\n",
              "       [-0.0046631 , -0.48804323, -0.39389068, ...,  1.62776996,\n",
              "        -0.57427105,  0.8981563 ],\n",
              "       [-0.81335383, -0.86414821,  0.9869706 , ...,  1.62776996,\n",
              "        -0.57427105,  0.8981563 ]])"
            ]
          },
          "metadata": {
            "tags": []
          },
          "execution_count": 63
        }
      ]
    },
    {
      "cell_type": "code",
      "metadata": {
        "id": "RQKx62Ab2dAX",
        "colab_type": "code",
        "colab": {}
      },
      "source": [
        "import keras"
      ],
      "execution_count": null,
      "outputs": []
    },
    {
      "cell_type": "code",
      "metadata": {
        "id": "BxRHIfAu2jCu",
        "colab_type": "code",
        "colab": {}
      },
      "source": [
        "from keras.models import Sequential"
      ],
      "execution_count": null,
      "outputs": []
    },
    {
      "cell_type": "code",
      "metadata": {
        "id": "qlu4Mg6L2vXp",
        "colab_type": "code",
        "colab": {}
      },
      "source": [
        "from keras.layers import Dense"
      ],
      "execution_count": null,
      "outputs": []
    },
    {
      "cell_type": "code",
      "metadata": {
        "id": "hdIPvCZZ231h",
        "colab_type": "code",
        "colab": {}
      },
      "source": [
        "from keras.layers import LeakyReLU,PReLU,ELU"
      ],
      "execution_count": null,
      "outputs": []
    },
    {
      "cell_type": "code",
      "metadata": {
        "id": "agqGIvYG3Cjq",
        "colab_type": "code",
        "colab": {}
      },
      "source": [
        "from keras.layers import Dropout"
      ],
      "execution_count": null,
      "outputs": []
    },
    {
      "cell_type": "code",
      "metadata": {
        "id": "AVi4qZ0J3Kcw",
        "colab_type": "code",
        "colab": {}
      },
      "source": [
        "# Initialising the ANN\n",
        "classifier = Sequential()"
      ],
      "execution_count": null,
      "outputs": []
    },
    {
      "cell_type": "code",
      "metadata": {
        "id": "lktb5cQ13ObF",
        "colab_type": "code",
        "colab": {}
      },
      "source": [
        "# Adding the input layer and the first hidden layer\n",
        "classifier.add(Dense(units = 6,  kernel_initializer='he_uniform',activation='relu',input_dim = 11   ))\n",
        "\n"
      ],
      "execution_count": null,
      "outputs": []
    },
    {
      "cell_type": "code",
      "metadata": {
        "id": "cnQlA0HUgeEs",
        "colab_type": "code",
        "colab": {}
      },
      "source": [
        "# Adding the second hidden layer\n",
        "classifier.add(Dense(units = 6, kernel_initializer= 'he_uniform',activation='relu'))"
      ],
      "execution_count": null,
      "outputs": []
    },
    {
      "cell_type": "code",
      "metadata": {
        "id": "8D49B826mESR",
        "colab_type": "code",
        "colab": {}
      },
      "source": [
        "# Adding the output layer\n",
        "classifier.add(Dense(units = 1,  kernel_initializer = 'glorot_uniform', activation = 'sigmoid'))\n"
      ],
      "execution_count": null,
      "outputs": []
    },
    {
      "cell_type": "code",
      "metadata": {
        "id": "rQ96z_0mmO8a",
        "colab_type": "code",
        "colab": {
          "base_uri": "https://localhost:8080/",
          "height": 255
        },
        "outputId": "b9b695c6-d84f-40d0-a7ca-d7e64fdfb257"
      },
      "source": [
        "classifier.summary()"
      ],
      "execution_count": null,
      "outputs": [
        {
          "output_type": "stream",
          "text": [
            "Model: \"sequential_2\"\n",
            "_________________________________________________________________\n",
            "Layer (type)                 Output Shape              Param #   \n",
            "=================================================================\n",
            "dense_1 (Dense)              (None, 6)                 72        \n",
            "_________________________________________________________________\n",
            "dense_2 (Dense)              (None, 6)                 42        \n",
            "_________________________________________________________________\n",
            "dense_3 (Dense)              (None, 1)                 7         \n",
            "=================================================================\n",
            "Total params: 121\n",
            "Trainable params: 121\n",
            "Non-trainable params: 0\n",
            "_________________________________________________________________\n"
          ],
          "name": "stdout"
        }
      ]
    },
    {
      "cell_type": "code",
      "metadata": {
        "id": "qWMVzlRPmtBx",
        "colab_type": "code",
        "colab": {}
      },
      "source": [
        "# Compiling the ANN\n",
        "classifier.compile(optimizer = 'Adamax', loss = 'binary_crossentropy', metrics = ['accuracy'])"
      ],
      "execution_count": null,
      "outputs": []
    },
    {
      "cell_type": "code",
      "metadata": {
        "id": "5FQJKIKJnP_z",
        "colab_type": "code",
        "colab": {
          "base_uri": "https://localhost:8080/",
          "height": 1000
        },
        "outputId": "0f8ff973-3a5e-4241-9ddc-b006982e5171"
      },
      "source": [
        "\n",
        "# Fitting the ANN to the Training set\n",
        "model_history=classifier.fit(x_train, y_train,validation_split=0.33, batch_size = 10, epochs = 100)"
      ],
      "execution_count": null,
      "outputs": [
        {
          "output_type": "stream",
          "text": [
            "Epoch 1/100\n",
            "536/536 [==============================] - 1s 2ms/step - loss: 0.6096 - accuracy: 0.7470 - val_loss: 0.5491 - val_accuracy: 0.7955\n",
            "Epoch 2/100\n",
            "536/536 [==============================] - 1s 1ms/step - loss: 0.5375 - accuracy: 0.7962 - val_loss: 0.5147 - val_accuracy: 0.7955\n",
            "Epoch 3/100\n",
            "536/536 [==============================] - 1s 1ms/step - loss: 0.5096 - accuracy: 0.7962 - val_loss: 0.4973 - val_accuracy: 0.7955\n",
            "Epoch 4/100\n",
            "536/536 [==============================] - 1s 1ms/step - loss: 0.4925 - accuracy: 0.7962 - val_loss: 0.4847 - val_accuracy: 0.7955\n",
            "Epoch 5/100\n",
            "536/536 [==============================] - 1s 1ms/step - loss: 0.4794 - accuracy: 0.7964 - val_loss: 0.4749 - val_accuracy: 0.7959\n",
            "Epoch 6/100\n",
            "536/536 [==============================] - 1s 1ms/step - loss: 0.4680 - accuracy: 0.7974 - val_loss: 0.4658 - val_accuracy: 0.7970\n",
            "Epoch 7/100\n",
            "536/536 [==============================] - 1s 1ms/step - loss: 0.4574 - accuracy: 0.8009 - val_loss: 0.4579 - val_accuracy: 0.8008\n",
            "Epoch 8/100\n",
            "536/536 [==============================] - 1s 1ms/step - loss: 0.4482 - accuracy: 0.8063 - val_loss: 0.4514 - val_accuracy: 0.8061\n",
            "Epoch 9/100\n",
            "536/536 [==============================] - 1s 1ms/step - loss: 0.4410 - accuracy: 0.8071 - val_loss: 0.4469 - val_accuracy: 0.8088\n",
            "Epoch 10/100\n",
            "536/536 [==============================] - 1s 1ms/step - loss: 0.4352 - accuracy: 0.8112 - val_loss: 0.4432 - val_accuracy: 0.8080\n",
            "Epoch 11/100\n",
            "536/536 [==============================] - 1s 1ms/step - loss: 0.4308 - accuracy: 0.8164 - val_loss: 0.4406 - val_accuracy: 0.8084\n",
            "Epoch 12/100\n",
            "536/536 [==============================] - 1s 1ms/step - loss: 0.4277 - accuracy: 0.8179 - val_loss: 0.4384 - val_accuracy: 0.8111\n",
            "Epoch 13/100\n",
            "536/536 [==============================] - 1s 1ms/step - loss: 0.4248 - accuracy: 0.8188 - val_loss: 0.4368 - val_accuracy: 0.8107\n",
            "Epoch 14/100\n",
            "536/536 [==============================] - 1s 1ms/step - loss: 0.4228 - accuracy: 0.8188 - val_loss: 0.4356 - val_accuracy: 0.8084\n",
            "Epoch 15/100\n",
            "536/536 [==============================] - 1s 1ms/step - loss: 0.4211 - accuracy: 0.8186 - val_loss: 0.4346 - val_accuracy: 0.8099\n",
            "Epoch 16/100\n",
            "536/536 [==============================] - 1s 1ms/step - loss: 0.4193 - accuracy: 0.8199 - val_loss: 0.4337 - val_accuracy: 0.8088\n",
            "Epoch 17/100\n",
            "536/536 [==============================] - 1s 1ms/step - loss: 0.4181 - accuracy: 0.8203 - val_loss: 0.4324 - val_accuracy: 0.8107\n",
            "Epoch 18/100\n",
            "536/536 [==============================] - 1s 1ms/step - loss: 0.4168 - accuracy: 0.8197 - val_loss: 0.4319 - val_accuracy: 0.8111\n",
            "Epoch 19/100\n",
            "536/536 [==============================] - 1s 1ms/step - loss: 0.4159 - accuracy: 0.8214 - val_loss: 0.4308 - val_accuracy: 0.8118\n",
            "Epoch 20/100\n",
            "536/536 [==============================] - 1s 1ms/step - loss: 0.4150 - accuracy: 0.8224 - val_loss: 0.4301 - val_accuracy: 0.8137\n",
            "Epoch 21/100\n",
            "536/536 [==============================] - 1s 1ms/step - loss: 0.4137 - accuracy: 0.8231 - val_loss: 0.4291 - val_accuracy: 0.8122\n",
            "Epoch 22/100\n",
            "536/536 [==============================] - 1s 1ms/step - loss: 0.4134 - accuracy: 0.8233 - val_loss: 0.4286 - val_accuracy: 0.8137\n",
            "Epoch 23/100\n",
            "536/536 [==============================] - 1s 1ms/step - loss: 0.4127 - accuracy: 0.8238 - val_loss: 0.4282 - val_accuracy: 0.8133\n",
            "Epoch 24/100\n",
            "536/536 [==============================] - 1s 1ms/step - loss: 0.4118 - accuracy: 0.8233 - val_loss: 0.4276 - val_accuracy: 0.8137\n",
            "Epoch 25/100\n",
            "536/536 [==============================] - 1s 1ms/step - loss: 0.4112 - accuracy: 0.8240 - val_loss: 0.4271 - val_accuracy: 0.8148\n",
            "Epoch 26/100\n",
            "536/536 [==============================] - 1s 1ms/step - loss: 0.4107 - accuracy: 0.8261 - val_loss: 0.4266 - val_accuracy: 0.8137\n",
            "Epoch 27/100\n",
            "536/536 [==============================] - 1s 1ms/step - loss: 0.4100 - accuracy: 0.8252 - val_loss: 0.4258 - val_accuracy: 0.8175\n",
            "Epoch 28/100\n",
            "536/536 [==============================] - 1s 1ms/step - loss: 0.4095 - accuracy: 0.8265 - val_loss: 0.4256 - val_accuracy: 0.8148\n",
            "Epoch 29/100\n",
            "536/536 [==============================] - 1s 1ms/step - loss: 0.4091 - accuracy: 0.8268 - val_loss: 0.4247 - val_accuracy: 0.8145\n",
            "Epoch 30/100\n",
            "536/536 [==============================] - 1s 1ms/step - loss: 0.4086 - accuracy: 0.8278 - val_loss: 0.4241 - val_accuracy: 0.8167\n",
            "Epoch 31/100\n",
            "536/536 [==============================] - 1s 1ms/step - loss: 0.4081 - accuracy: 0.8280 - val_loss: 0.4234 - val_accuracy: 0.8171\n",
            "Epoch 32/100\n",
            "536/536 [==============================] - 1s 1ms/step - loss: 0.4077 - accuracy: 0.8270 - val_loss: 0.4227 - val_accuracy: 0.8179\n",
            "Epoch 33/100\n",
            "536/536 [==============================] - 1s 1ms/step - loss: 0.4072 - accuracy: 0.8285 - val_loss: 0.4221 - val_accuracy: 0.8183\n",
            "Epoch 34/100\n",
            "536/536 [==============================] - 1s 1ms/step - loss: 0.4067 - accuracy: 0.8294 - val_loss: 0.4220 - val_accuracy: 0.8175\n",
            "Epoch 35/100\n",
            "536/536 [==============================] - 1s 1ms/step - loss: 0.4062 - accuracy: 0.8296 - val_loss: 0.4213 - val_accuracy: 0.8198\n",
            "Epoch 36/100\n",
            "536/536 [==============================] - 1s 1ms/step - loss: 0.4058 - accuracy: 0.8287 - val_loss: 0.4207 - val_accuracy: 0.8194\n",
            "Epoch 37/100\n",
            "536/536 [==============================] - 1s 1ms/step - loss: 0.4056 - accuracy: 0.8311 - val_loss: 0.4199 - val_accuracy: 0.8198\n",
            "Epoch 38/100\n",
            "536/536 [==============================] - 1s 1ms/step - loss: 0.4051 - accuracy: 0.8308 - val_loss: 0.4196 - val_accuracy: 0.8220\n",
            "Epoch 39/100\n",
            "536/536 [==============================] - 1s 1ms/step - loss: 0.4045 - accuracy: 0.8300 - val_loss: 0.4188 - val_accuracy: 0.8217\n",
            "Epoch 40/100\n",
            "536/536 [==============================] - 1s 1ms/step - loss: 0.4044 - accuracy: 0.8306 - val_loss: 0.4182 - val_accuracy: 0.8213\n",
            "Epoch 41/100\n",
            "536/536 [==============================] - 1s 1ms/step - loss: 0.4041 - accuracy: 0.8311 - val_loss: 0.4182 - val_accuracy: 0.8220\n",
            "Epoch 42/100\n",
            "536/536 [==============================] - 1s 1ms/step - loss: 0.4037 - accuracy: 0.8308 - val_loss: 0.4177 - val_accuracy: 0.8209\n",
            "Epoch 43/100\n",
            "536/536 [==============================] - 1s 1ms/step - loss: 0.4035 - accuracy: 0.8330 - val_loss: 0.4179 - val_accuracy: 0.8209\n",
            "Epoch 44/100\n",
            "536/536 [==============================] - 1s 1ms/step - loss: 0.4033 - accuracy: 0.8315 - val_loss: 0.4170 - val_accuracy: 0.8213\n",
            "Epoch 45/100\n",
            "536/536 [==============================] - 1s 1ms/step - loss: 0.4030 - accuracy: 0.8334 - val_loss: 0.4170 - val_accuracy: 0.8232\n",
            "Epoch 46/100\n",
            "536/536 [==============================] - 1s 1ms/step - loss: 0.4028 - accuracy: 0.8319 - val_loss: 0.4167 - val_accuracy: 0.8205\n",
            "Epoch 47/100\n",
            "536/536 [==============================] - 1s 1ms/step - loss: 0.4026 - accuracy: 0.8326 - val_loss: 0.4169 - val_accuracy: 0.8209\n",
            "Epoch 48/100\n",
            "536/536 [==============================] - 1s 1ms/step - loss: 0.4023 - accuracy: 0.8304 - val_loss: 0.4161 - val_accuracy: 0.8220\n",
            "Epoch 49/100\n",
            "536/536 [==============================] - 1s 1ms/step - loss: 0.4022 - accuracy: 0.8336 - val_loss: 0.4160 - val_accuracy: 0.8224\n",
            "Epoch 50/100\n",
            "536/536 [==============================] - 1s 1ms/step - loss: 0.4020 - accuracy: 0.8332 - val_loss: 0.4157 - val_accuracy: 0.8243\n",
            "Epoch 51/100\n",
            "536/536 [==============================] - 1s 1ms/step - loss: 0.4018 - accuracy: 0.8332 - val_loss: 0.4158 - val_accuracy: 0.8243\n",
            "Epoch 52/100\n",
            "536/536 [==============================] - 1s 1ms/step - loss: 0.4015 - accuracy: 0.8322 - val_loss: 0.4152 - val_accuracy: 0.8220\n",
            "Epoch 53/100\n",
            "536/536 [==============================] - 1s 1ms/step - loss: 0.4014 - accuracy: 0.8324 - val_loss: 0.4156 - val_accuracy: 0.8236\n",
            "Epoch 54/100\n",
            "536/536 [==============================] - 1s 1ms/step - loss: 0.4013 - accuracy: 0.8326 - val_loss: 0.4148 - val_accuracy: 0.8243\n",
            "Epoch 55/100\n",
            "536/536 [==============================] - 1s 1ms/step - loss: 0.4010 - accuracy: 0.8322 - val_loss: 0.4150 - val_accuracy: 0.8220\n",
            "Epoch 56/100\n",
            "536/536 [==============================] - 1s 1ms/step - loss: 0.4008 - accuracy: 0.8326 - val_loss: 0.4143 - val_accuracy: 0.8209\n",
            "Epoch 57/100\n",
            "536/536 [==============================] - 1s 1ms/step - loss: 0.4007 - accuracy: 0.8337 - val_loss: 0.4140 - val_accuracy: 0.8217\n",
            "Epoch 58/100\n",
            "536/536 [==============================] - 1s 1ms/step - loss: 0.4005 - accuracy: 0.8337 - val_loss: 0.4139 - val_accuracy: 0.8239\n",
            "Epoch 59/100\n",
            "536/536 [==============================] - 1s 1ms/step - loss: 0.4003 - accuracy: 0.8334 - val_loss: 0.4133 - val_accuracy: 0.8224\n",
            "Epoch 60/100\n",
            "536/536 [==============================] - 1s 1ms/step - loss: 0.4002 - accuracy: 0.8324 - val_loss: 0.4136 - val_accuracy: 0.8243\n",
            "Epoch 61/100\n",
            "536/536 [==============================] - 1s 1ms/step - loss: 0.4000 - accuracy: 0.8317 - val_loss: 0.4129 - val_accuracy: 0.8236\n",
            "Epoch 62/100\n",
            "536/536 [==============================] - 1s 1ms/step - loss: 0.3998 - accuracy: 0.8337 - val_loss: 0.4132 - val_accuracy: 0.8258\n",
            "Epoch 63/100\n",
            "536/536 [==============================] - 1s 1ms/step - loss: 0.3998 - accuracy: 0.8326 - val_loss: 0.4131 - val_accuracy: 0.8251\n",
            "Epoch 64/100\n",
            "536/536 [==============================] - 1s 1ms/step - loss: 0.3996 - accuracy: 0.8330 - val_loss: 0.4125 - val_accuracy: 0.8247\n",
            "Epoch 65/100\n",
            "536/536 [==============================] - 1s 1ms/step - loss: 0.3995 - accuracy: 0.8328 - val_loss: 0.4123 - val_accuracy: 0.8232\n",
            "Epoch 66/100\n",
            "536/536 [==============================] - 1s 1ms/step - loss: 0.3994 - accuracy: 0.8326 - val_loss: 0.4122 - val_accuracy: 0.8236\n",
            "Epoch 67/100\n",
            "536/536 [==============================] - 1s 1ms/step - loss: 0.3992 - accuracy: 0.8322 - val_loss: 0.4121 - val_accuracy: 0.8254\n",
            "Epoch 68/100\n",
            "536/536 [==============================] - 1s 1ms/step - loss: 0.3990 - accuracy: 0.8326 - val_loss: 0.4116 - val_accuracy: 0.8236\n",
            "Epoch 69/100\n",
            "536/536 [==============================] - 1s 1ms/step - loss: 0.3990 - accuracy: 0.8330 - val_loss: 0.4114 - val_accuracy: 0.8239\n",
            "Epoch 70/100\n",
            "536/536 [==============================] - 1s 1ms/step - loss: 0.3988 - accuracy: 0.8337 - val_loss: 0.4117 - val_accuracy: 0.8270\n",
            "Epoch 71/100\n",
            "536/536 [==============================] - 1s 1ms/step - loss: 0.3985 - accuracy: 0.8330 - val_loss: 0.4109 - val_accuracy: 0.8243\n",
            "Epoch 72/100\n",
            "536/536 [==============================] - 1s 1ms/step - loss: 0.3984 - accuracy: 0.8337 - val_loss: 0.4114 - val_accuracy: 0.8251\n",
            "Epoch 73/100\n",
            "536/536 [==============================] - 1s 1ms/step - loss: 0.3983 - accuracy: 0.8345 - val_loss: 0.4111 - val_accuracy: 0.8243\n",
            "Epoch 74/100\n",
            "536/536 [==============================] - 1s 1ms/step - loss: 0.3981 - accuracy: 0.8347 - val_loss: 0.4109 - val_accuracy: 0.8254\n",
            "Epoch 75/100\n",
            "536/536 [==============================] - 1s 1ms/step - loss: 0.3980 - accuracy: 0.8341 - val_loss: 0.4105 - val_accuracy: 0.8251\n",
            "Epoch 76/100\n",
            "536/536 [==============================] - 1s 1ms/step - loss: 0.3978 - accuracy: 0.8354 - val_loss: 0.4105 - val_accuracy: 0.8262\n",
            "Epoch 77/100\n",
            "536/536 [==============================] - 1s 1ms/step - loss: 0.3975 - accuracy: 0.8352 - val_loss: 0.4107 - val_accuracy: 0.8281\n",
            "Epoch 78/100\n",
            "536/536 [==============================] - 1s 1ms/step - loss: 0.3976 - accuracy: 0.8349 - val_loss: 0.4099 - val_accuracy: 0.8258\n",
            "Epoch 79/100\n",
            "536/536 [==============================] - 1s 1ms/step - loss: 0.3972 - accuracy: 0.8349 - val_loss: 0.4096 - val_accuracy: 0.8262\n",
            "Epoch 80/100\n",
            "536/536 [==============================] - 1s 1ms/step - loss: 0.3971 - accuracy: 0.8356 - val_loss: 0.4098 - val_accuracy: 0.8273\n",
            "Epoch 81/100\n",
            "536/536 [==============================] - 1s 1ms/step - loss: 0.3968 - accuracy: 0.8352 - val_loss: 0.4089 - val_accuracy: 0.8254\n",
            "Epoch 82/100\n",
            "536/536 [==============================] - 1s 1ms/step - loss: 0.3965 - accuracy: 0.8356 - val_loss: 0.4096 - val_accuracy: 0.8285\n",
            "Epoch 83/100\n",
            "536/536 [==============================] - 1s 1ms/step - loss: 0.3965 - accuracy: 0.8349 - val_loss: 0.4081 - val_accuracy: 0.8266\n",
            "Epoch 84/100\n",
            "536/536 [==============================] - 1s 1ms/step - loss: 0.3960 - accuracy: 0.8350 - val_loss: 0.4074 - val_accuracy: 0.8270\n",
            "Epoch 85/100\n",
            "536/536 [==============================] - 1s 1ms/step - loss: 0.3958 - accuracy: 0.8354 - val_loss: 0.4075 - val_accuracy: 0.8277\n",
            "Epoch 86/100\n",
            "536/536 [==============================] - 1s 1ms/step - loss: 0.3957 - accuracy: 0.8358 - val_loss: 0.4071 - val_accuracy: 0.8277\n",
            "Epoch 87/100\n",
            "536/536 [==============================] - 1s 1ms/step - loss: 0.3954 - accuracy: 0.8341 - val_loss: 0.4071 - val_accuracy: 0.8277\n",
            "Epoch 88/100\n",
            "536/536 [==============================] - 1s 1ms/step - loss: 0.3949 - accuracy: 0.8356 - val_loss: 0.4065 - val_accuracy: 0.8285\n",
            "Epoch 89/100\n",
            "536/536 [==============================] - 1s 1ms/step - loss: 0.3949 - accuracy: 0.8350 - val_loss: 0.4062 - val_accuracy: 0.8285\n",
            "Epoch 90/100\n",
            "536/536 [==============================] - 1s 1ms/step - loss: 0.3946 - accuracy: 0.8343 - val_loss: 0.4051 - val_accuracy: 0.8292\n",
            "Epoch 91/100\n",
            "536/536 [==============================] - 1s 1ms/step - loss: 0.3940 - accuracy: 0.8350 - val_loss: 0.4048 - val_accuracy: 0.8289\n",
            "Epoch 92/100\n",
            "536/536 [==============================] - 1s 1ms/step - loss: 0.3938 - accuracy: 0.8364 - val_loss: 0.4043 - val_accuracy: 0.8289\n",
            "Epoch 93/100\n",
            "536/536 [==============================] - 1s 1ms/step - loss: 0.3934 - accuracy: 0.8360 - val_loss: 0.4045 - val_accuracy: 0.8311\n",
            "Epoch 94/100\n",
            "536/536 [==============================] - 1s 1ms/step - loss: 0.3932 - accuracy: 0.8364 - val_loss: 0.4042 - val_accuracy: 0.8311\n",
            "Epoch 95/100\n",
            "536/536 [==============================] - 1s 1ms/step - loss: 0.3925 - accuracy: 0.8377 - val_loss: 0.4034 - val_accuracy: 0.8296\n",
            "Epoch 96/100\n",
            "536/536 [==============================] - 1s 1ms/step - loss: 0.3924 - accuracy: 0.8352 - val_loss: 0.4033 - val_accuracy: 0.8319\n",
            "Epoch 97/100\n",
            "536/536 [==============================] - 1s 1ms/step - loss: 0.3919 - accuracy: 0.8352 - val_loss: 0.4027 - val_accuracy: 0.8319\n",
            "Epoch 98/100\n",
            "536/536 [==============================] - 1s 1ms/step - loss: 0.3912 - accuracy: 0.8367 - val_loss: 0.4016 - val_accuracy: 0.8311\n",
            "Epoch 99/100\n",
            "536/536 [==============================] - 1s 1ms/step - loss: 0.3908 - accuracy: 0.8367 - val_loss: 0.4016 - val_accuracy: 0.8323\n",
            "Epoch 100/100\n",
            "536/536 [==============================] - 1s 1ms/step - loss: 0.3901 - accuracy: 0.8365 - val_loss: 0.4010 - val_accuracy: 0.8330\n"
          ],
          "name": "stdout"
        }
      ]
    },
    {
      "cell_type": "code",
      "metadata": {
        "id": "Q5GBFpOHnSsA",
        "colab_type": "code",
        "colab": {}
      },
      "source": [
        "#training accuracy = 83.6 and accuracy of model = 83.30"
      ],
      "execution_count": null,
      "outputs": []
    },
    {
      "cell_type": "code",
      "metadata": {
        "id": "9FehZwHhoTxu",
        "colab_type": "code",
        "colab": {}
      },
      "source": [
        "# Adding the input layer and the first hidden layer\n",
        "classifier.add(Dense(units = 6,  kernel_initializer='uniform',activation='relu',input_dim = 11   ))"
      ],
      "execution_count": null,
      "outputs": []
    },
    {
      "cell_type": "code",
      "metadata": {
        "id": "hslVBGEupRJe",
        "colab_type": "code",
        "colab": {}
      },
      "source": [
        "# Adding the input layer and the 2nd hidden layer\n",
        "classifier.add(Dense(units = 6,  kernel_initializer='uniform',activation='relu' ))"
      ],
      "execution_count": null,
      "outputs": []
    },
    {
      "cell_type": "code",
      "metadata": {
        "id": "ZGCN0A59pYMT",
        "colab_type": "code",
        "colab": {}
      },
      "source": [
        "# Adding the output layer\n",
        "classifier.add(Dense(units = 1,  kernel_initializer = 'uniform', activation = 'sigmoid'))"
      ],
      "execution_count": null,
      "outputs": []
    },
    {
      "cell_type": "code",
      "metadata": {
        "id": "fp_jm0W2pdb5",
        "colab_type": "code",
        "colab": {}
      },
      "source": [
        "# Compiling the ANN\n",
        "classifier.compile(optimizer = 'Adamax', loss = 'binary_crossentropy', metrics = ['accuracy'])"
      ],
      "execution_count": null,
      "outputs": []
    },
    {
      "cell_type": "code",
      "metadata": {
        "id": "cTI5xkL3plmk",
        "colab_type": "code",
        "colab": {
          "base_uri": "https://localhost:8080/",
          "height": 1000
        },
        "outputId": "3bd652f5-bef8-46ba-ef3d-64f9b29ce294"
      },
      "source": [
        "# Fitting the ANN to the Training set\n",
        "model_history=classifier.fit(x_train, y_train,validation_split=0.33, batch_size = 10, epochs = 100)"
      ],
      "execution_count": null,
      "outputs": [
        {
          "output_type": "stream",
          "text": [
            "Epoch 1/100\n",
            "536/536 [==============================] - 1s 2ms/step - loss: 0.6265 - accuracy: 0.7962 - val_loss: 0.5543 - val_accuracy: 0.7955\n",
            "Epoch 2/100\n",
            "536/536 [==============================] - 1s 1ms/step - loss: 0.5191 - accuracy: 0.7962 - val_loss: 0.5072 - val_accuracy: 0.7955\n",
            "Epoch 3/100\n",
            "536/536 [==============================] - 1s 1ms/step - loss: 0.5056 - accuracy: 0.7962 - val_loss: 0.5060 - val_accuracy: 0.7955\n",
            "Epoch 4/100\n",
            "536/536 [==============================] - 1s 1ms/step - loss: 0.5050 - accuracy: 0.7962 - val_loss: 0.5055 - val_accuracy: 0.7955\n",
            "Epoch 5/100\n",
            "536/536 [==============================] - 1s 1ms/step - loss: 0.5044 - accuracy: 0.7962 - val_loss: 0.5049 - val_accuracy: 0.7955\n",
            "Epoch 6/100\n",
            "536/536 [==============================] - 1s 1ms/step - loss: 0.5033 - accuracy: 0.7962 - val_loss: 0.5031 - val_accuracy: 0.7955\n",
            "Epoch 7/100\n",
            "536/536 [==============================] - 1s 1ms/step - loss: 0.4998 - accuracy: 0.7962 - val_loss: 0.4984 - val_accuracy: 0.7955\n",
            "Epoch 8/100\n",
            "536/536 [==============================] - 1s 1ms/step - loss: 0.4928 - accuracy: 0.7962 - val_loss: 0.4918 - val_accuracy: 0.7955\n",
            "Epoch 9/100\n",
            "536/536 [==============================] - 1s 1ms/step - loss: 0.4854 - accuracy: 0.7962 - val_loss: 0.4845 - val_accuracy: 0.7955\n",
            "Epoch 10/100\n",
            "536/536 [==============================] - 1s 1ms/step - loss: 0.4771 - accuracy: 0.7962 - val_loss: 0.4772 - val_accuracy: 0.7955\n",
            "Epoch 11/100\n",
            "536/536 [==============================] - 1s 1ms/step - loss: 0.4696 - accuracy: 0.7962 - val_loss: 0.4698 - val_accuracy: 0.7955\n",
            "Epoch 12/100\n",
            "536/536 [==============================] - 1s 1ms/step - loss: 0.4613 - accuracy: 0.7962 - val_loss: 0.4626 - val_accuracy: 0.7955\n",
            "Epoch 13/100\n",
            "536/536 [==============================] - 1s 1ms/step - loss: 0.4538 - accuracy: 0.7962 - val_loss: 0.4552 - val_accuracy: 0.7955\n",
            "Epoch 14/100\n",
            "536/536 [==============================] - 1s 1ms/step - loss: 0.4462 - accuracy: 0.7962 - val_loss: 0.4488 - val_accuracy: 0.7955\n",
            "Epoch 15/100\n",
            "536/536 [==============================] - 1s 1ms/step - loss: 0.4395 - accuracy: 0.7962 - val_loss: 0.4431 - val_accuracy: 0.7955\n",
            "Epoch 16/100\n",
            "536/536 [==============================] - 1s 1ms/step - loss: 0.4329 - accuracy: 0.7962 - val_loss: 0.4368 - val_accuracy: 0.7955\n",
            "Epoch 17/100\n",
            "536/536 [==============================] - 1s 1ms/step - loss: 0.4271 - accuracy: 0.7962 - val_loss: 0.4327 - val_accuracy: 0.7955\n",
            "Epoch 18/100\n",
            "536/536 [==============================] - 1s 1ms/step - loss: 0.4224 - accuracy: 0.7962 - val_loss: 0.4288 - val_accuracy: 0.7955\n",
            "Epoch 19/100\n",
            "536/536 [==============================] - 1s 1ms/step - loss: 0.4184 - accuracy: 0.7962 - val_loss: 0.4258 - val_accuracy: 0.7955\n",
            "Epoch 20/100\n",
            "536/536 [==============================] - 1s 1ms/step - loss: 0.4145 - accuracy: 0.7962 - val_loss: 0.4228 - val_accuracy: 0.7955\n",
            "Epoch 21/100\n",
            "536/536 [==============================] - 1s 1ms/step - loss: 0.4112 - accuracy: 0.7962 - val_loss: 0.4204 - val_accuracy: 0.7967\n",
            "Epoch 22/100\n",
            "536/536 [==============================] - 1s 1ms/step - loss: 0.4088 - accuracy: 0.8220 - val_loss: 0.4188 - val_accuracy: 0.8217\n",
            "Epoch 23/100\n",
            "536/536 [==============================] - 1s 1ms/step - loss: 0.4069 - accuracy: 0.8291 - val_loss: 0.4173 - val_accuracy: 0.8224\n",
            "Epoch 24/100\n",
            "536/536 [==============================] - 1s 1ms/step - loss: 0.4054 - accuracy: 0.8321 - val_loss: 0.4163 - val_accuracy: 0.8236\n",
            "Epoch 25/100\n",
            "536/536 [==============================] - 1s 1ms/step - loss: 0.4042 - accuracy: 0.8330 - val_loss: 0.4151 - val_accuracy: 0.8232\n",
            "Epoch 26/100\n",
            "536/536 [==============================] - 1s 1ms/step - loss: 0.4030 - accuracy: 0.8326 - val_loss: 0.4136 - val_accuracy: 0.8266\n",
            "Epoch 27/100\n",
            "536/536 [==============================] - 1s 1ms/step - loss: 0.4018 - accuracy: 0.8345 - val_loss: 0.4126 - val_accuracy: 0.8251\n",
            "Epoch 28/100\n",
            "536/536 [==============================] - 1s 1ms/step - loss: 0.4006 - accuracy: 0.8350 - val_loss: 0.4112 - val_accuracy: 0.8262\n",
            "Epoch 29/100\n",
            "536/536 [==============================] - 1s 1ms/step - loss: 0.3994 - accuracy: 0.8343 - val_loss: 0.4099 - val_accuracy: 0.8266\n",
            "Epoch 30/100\n",
            "536/536 [==============================] - 1s 1ms/step - loss: 0.3981 - accuracy: 0.8339 - val_loss: 0.4087 - val_accuracy: 0.8273\n",
            "Epoch 31/100\n",
            "536/536 [==============================] - 1s 1ms/step - loss: 0.3969 - accuracy: 0.8343 - val_loss: 0.4075 - val_accuracy: 0.8262\n",
            "Epoch 32/100\n",
            "536/536 [==============================] - 1s 1ms/step - loss: 0.3960 - accuracy: 0.8339 - val_loss: 0.4061 - val_accuracy: 0.8277\n",
            "Epoch 33/100\n",
            "536/536 [==============================] - 1s 1ms/step - loss: 0.3947 - accuracy: 0.8349 - val_loss: 0.4051 - val_accuracy: 0.8270\n",
            "Epoch 34/100\n",
            "536/536 [==============================] - 1s 1ms/step - loss: 0.3935 - accuracy: 0.8339 - val_loss: 0.4040 - val_accuracy: 0.8273\n",
            "Epoch 35/100\n",
            "536/536 [==============================] - 1s 1ms/step - loss: 0.3926 - accuracy: 0.8341 - val_loss: 0.4030 - val_accuracy: 0.8273\n",
            "Epoch 36/100\n",
            "536/536 [==============================] - 1s 1ms/step - loss: 0.3915 - accuracy: 0.8336 - val_loss: 0.4021 - val_accuracy: 0.8285\n",
            "Epoch 37/100\n",
            "536/536 [==============================] - 1s 1ms/step - loss: 0.3906 - accuracy: 0.8339 - val_loss: 0.4011 - val_accuracy: 0.8266\n",
            "Epoch 38/100\n",
            "536/536 [==============================] - 1s 1ms/step - loss: 0.3896 - accuracy: 0.8343 - val_loss: 0.4002 - val_accuracy: 0.8289\n",
            "Epoch 39/100\n",
            "536/536 [==============================] - 1s 1ms/step - loss: 0.3885 - accuracy: 0.8343 - val_loss: 0.3992 - val_accuracy: 0.8285\n",
            "Epoch 40/100\n",
            "536/536 [==============================] - 1s 1ms/step - loss: 0.3876 - accuracy: 0.8339 - val_loss: 0.3984 - val_accuracy: 0.8285\n",
            "Epoch 41/100\n",
            "536/536 [==============================] - 1s 1ms/step - loss: 0.3867 - accuracy: 0.8332 - val_loss: 0.3976 - val_accuracy: 0.8300\n",
            "Epoch 42/100\n",
            "536/536 [==============================] - 1s 1ms/step - loss: 0.3858 - accuracy: 0.8337 - val_loss: 0.3965 - val_accuracy: 0.8300\n",
            "Epoch 43/100\n",
            "536/536 [==============================] - 1s 1ms/step - loss: 0.3850 - accuracy: 0.8339 - val_loss: 0.3957 - val_accuracy: 0.8304\n",
            "Epoch 44/100\n",
            "536/536 [==============================] - 1s 1ms/step - loss: 0.3839 - accuracy: 0.8350 - val_loss: 0.3948 - val_accuracy: 0.8319\n",
            "Epoch 45/100\n",
            "536/536 [==============================] - 1s 1ms/step - loss: 0.3831 - accuracy: 0.8364 - val_loss: 0.3943 - val_accuracy: 0.8326\n",
            "Epoch 46/100\n",
            "536/536 [==============================] - 1s 1ms/step - loss: 0.3821 - accuracy: 0.8375 - val_loss: 0.3935 - val_accuracy: 0.8417\n",
            "Epoch 47/100\n",
            "536/536 [==============================] - 1s 1ms/step - loss: 0.3813 - accuracy: 0.8390 - val_loss: 0.3925 - val_accuracy: 0.8440\n",
            "Epoch 48/100\n",
            "536/536 [==============================] - 1s 1ms/step - loss: 0.3805 - accuracy: 0.8388 - val_loss: 0.3919 - val_accuracy: 0.8432\n",
            "Epoch 49/100\n",
            "536/536 [==============================] - 1s 1ms/step - loss: 0.3795 - accuracy: 0.8416 - val_loss: 0.3913 - val_accuracy: 0.8436\n",
            "Epoch 50/100\n",
            "536/536 [==============================] - 1s 1ms/step - loss: 0.3791 - accuracy: 0.8412 - val_loss: 0.3905 - val_accuracy: 0.8451\n",
            "Epoch 51/100\n",
            "536/536 [==============================] - 1s 1ms/step - loss: 0.3783 - accuracy: 0.8421 - val_loss: 0.3896 - val_accuracy: 0.8444\n",
            "Epoch 52/100\n",
            "536/536 [==============================] - 1s 1ms/step - loss: 0.3773 - accuracy: 0.8440 - val_loss: 0.3892 - val_accuracy: 0.8440\n",
            "Epoch 53/100\n",
            "536/536 [==============================] - 1s 1ms/step - loss: 0.3767 - accuracy: 0.8447 - val_loss: 0.3884 - val_accuracy: 0.8448\n",
            "Epoch 54/100\n",
            "536/536 [==============================] - 1s 1ms/step - loss: 0.3761 - accuracy: 0.8434 - val_loss: 0.3879 - val_accuracy: 0.8440\n",
            "Epoch 55/100\n",
            "536/536 [==============================] - 1s 1ms/step - loss: 0.3753 - accuracy: 0.8440 - val_loss: 0.3876 - val_accuracy: 0.8466\n",
            "Epoch 56/100\n",
            "536/536 [==============================] - 1s 1ms/step - loss: 0.3745 - accuracy: 0.8446 - val_loss: 0.3870 - val_accuracy: 0.8470\n",
            "Epoch 57/100\n",
            "536/536 [==============================] - 1s 1ms/step - loss: 0.3739 - accuracy: 0.8446 - val_loss: 0.3864 - val_accuracy: 0.8470\n",
            "Epoch 58/100\n",
            "536/536 [==============================] - 1s 1ms/step - loss: 0.3732 - accuracy: 0.8446 - val_loss: 0.3857 - val_accuracy: 0.8448\n",
            "Epoch 59/100\n",
            "536/536 [==============================] - 1s 1ms/step - loss: 0.3724 - accuracy: 0.8442 - val_loss: 0.3849 - val_accuracy: 0.8448\n",
            "Epoch 60/100\n",
            "536/536 [==============================] - 1s 1ms/step - loss: 0.3717 - accuracy: 0.8449 - val_loss: 0.3844 - val_accuracy: 0.8463\n",
            "Epoch 61/100\n",
            "536/536 [==============================] - 1s 1ms/step - loss: 0.3712 - accuracy: 0.8464 - val_loss: 0.3837 - val_accuracy: 0.8432\n",
            "Epoch 62/100\n",
            "536/536 [==============================] - 1s 1ms/step - loss: 0.3703 - accuracy: 0.8461 - val_loss: 0.3831 - val_accuracy: 0.8436\n",
            "Epoch 63/100\n",
            "536/536 [==============================] - 1s 1ms/step - loss: 0.3698 - accuracy: 0.8470 - val_loss: 0.3830 - val_accuracy: 0.8440\n",
            "Epoch 64/100\n",
            "536/536 [==============================] - 1s 1ms/step - loss: 0.3696 - accuracy: 0.8475 - val_loss: 0.3823 - val_accuracy: 0.8425\n",
            "Epoch 65/100\n",
            "536/536 [==============================] - 1s 1ms/step - loss: 0.3686 - accuracy: 0.8464 - val_loss: 0.3817 - val_accuracy: 0.8440\n",
            "Epoch 66/100\n",
            "536/536 [==============================] - 1s 1ms/step - loss: 0.3679 - accuracy: 0.8487 - val_loss: 0.3813 - val_accuracy: 0.8436\n",
            "Epoch 67/100\n",
            "536/536 [==============================] - 1s 1ms/step - loss: 0.3671 - accuracy: 0.8447 - val_loss: 0.3806 - val_accuracy: 0.8436\n",
            "Epoch 68/100\n",
            "536/536 [==============================] - 1s 1ms/step - loss: 0.3664 - accuracy: 0.8459 - val_loss: 0.3807 - val_accuracy: 0.8463\n",
            "Epoch 69/100\n",
            "536/536 [==============================] - 1s 1ms/step - loss: 0.3658 - accuracy: 0.8462 - val_loss: 0.3795 - val_accuracy: 0.8440\n",
            "Epoch 70/100\n",
            "536/536 [==============================] - 1s 1ms/step - loss: 0.3654 - accuracy: 0.8485 - val_loss: 0.3786 - val_accuracy: 0.8470\n",
            "Epoch 71/100\n",
            "536/536 [==============================] - 1s 1ms/step - loss: 0.3644 - accuracy: 0.8477 - val_loss: 0.3781 - val_accuracy: 0.8466\n",
            "Epoch 72/100\n",
            "536/536 [==============================] - 1s 1ms/step - loss: 0.3638 - accuracy: 0.8481 - val_loss: 0.3778 - val_accuracy: 0.8470\n",
            "Epoch 73/100\n",
            "536/536 [==============================] - 1s 1ms/step - loss: 0.3636 - accuracy: 0.8489 - val_loss: 0.3773 - val_accuracy: 0.8448\n",
            "Epoch 74/100\n",
            "536/536 [==============================] - 1s 1ms/step - loss: 0.3629 - accuracy: 0.8489 - val_loss: 0.3767 - val_accuracy: 0.8455\n",
            "Epoch 75/100\n",
            "536/536 [==============================] - 1s 1ms/step - loss: 0.3620 - accuracy: 0.8505 - val_loss: 0.3771 - val_accuracy: 0.8466\n",
            "Epoch 76/100\n",
            "536/536 [==============================] - 1s 1ms/step - loss: 0.3614 - accuracy: 0.8530 - val_loss: 0.3765 - val_accuracy: 0.8482\n",
            "Epoch 77/100\n",
            "536/536 [==============================] - 1s 1ms/step - loss: 0.3606 - accuracy: 0.8515 - val_loss: 0.3770 - val_accuracy: 0.8470\n",
            "Epoch 78/100\n",
            "536/536 [==============================] - 1s 1ms/step - loss: 0.3599 - accuracy: 0.8503 - val_loss: 0.3748 - val_accuracy: 0.8474\n",
            "Epoch 79/100\n",
            "536/536 [==============================] - 1s 1ms/step - loss: 0.3597 - accuracy: 0.8515 - val_loss: 0.3738 - val_accuracy: 0.8489\n",
            "Epoch 80/100\n",
            "536/536 [==============================] - 1s 1ms/step - loss: 0.3584 - accuracy: 0.8539 - val_loss: 0.3740 - val_accuracy: 0.8501\n",
            "Epoch 81/100\n",
            "536/536 [==============================] - 1s 1ms/step - loss: 0.3580 - accuracy: 0.8531 - val_loss: 0.3733 - val_accuracy: 0.8512\n",
            "Epoch 82/100\n",
            "536/536 [==============================] - 1s 1ms/step - loss: 0.3572 - accuracy: 0.8550 - val_loss: 0.3729 - val_accuracy: 0.8493\n",
            "Epoch 83/100\n",
            "536/536 [==============================] - 1s 1ms/step - loss: 0.3566 - accuracy: 0.8548 - val_loss: 0.3725 - val_accuracy: 0.8504\n",
            "Epoch 84/100\n",
            "536/536 [==============================] - 1s 1ms/step - loss: 0.3558 - accuracy: 0.8552 - val_loss: 0.3716 - val_accuracy: 0.8508\n",
            "Epoch 85/100\n",
            "536/536 [==============================] - 1s 1ms/step - loss: 0.3552 - accuracy: 0.8569 - val_loss: 0.3719 - val_accuracy: 0.8493\n",
            "Epoch 86/100\n",
            "536/536 [==============================] - 1s 1ms/step - loss: 0.3551 - accuracy: 0.8556 - val_loss: 0.3711 - val_accuracy: 0.8516\n",
            "Epoch 87/100\n",
            "536/536 [==============================] - 1s 1ms/step - loss: 0.3541 - accuracy: 0.8545 - val_loss: 0.3720 - val_accuracy: 0.8504\n",
            "Epoch 88/100\n",
            "536/536 [==============================] - 1s 1ms/step - loss: 0.3539 - accuracy: 0.8550 - val_loss: 0.3701 - val_accuracy: 0.8501\n",
            "Epoch 89/100\n",
            "536/536 [==============================] - 1s 1ms/step - loss: 0.3533 - accuracy: 0.8558 - val_loss: 0.3702 - val_accuracy: 0.8493\n",
            "Epoch 90/100\n",
            "536/536 [==============================] - 1s 1ms/step - loss: 0.3526 - accuracy: 0.8582 - val_loss: 0.3699 - val_accuracy: 0.8512\n",
            "Epoch 91/100\n",
            "536/536 [==============================] - 1s 1ms/step - loss: 0.3523 - accuracy: 0.8565 - val_loss: 0.3694 - val_accuracy: 0.8497\n",
            "Epoch 92/100\n",
            "536/536 [==============================] - 1s 1ms/step - loss: 0.3510 - accuracy: 0.8567 - val_loss: 0.3689 - val_accuracy: 0.8516\n",
            "Epoch 93/100\n",
            "536/536 [==============================] - 1s 1ms/step - loss: 0.3510 - accuracy: 0.8582 - val_loss: 0.3689 - val_accuracy: 0.8497\n",
            "Epoch 94/100\n",
            "536/536 [==============================] - 1s 1ms/step - loss: 0.3505 - accuracy: 0.8587 - val_loss: 0.3676 - val_accuracy: 0.8535\n",
            "Epoch 95/100\n",
            "536/536 [==============================] - 1s 1ms/step - loss: 0.3499 - accuracy: 0.8567 - val_loss: 0.3673 - val_accuracy: 0.8538\n",
            "Epoch 96/100\n",
            "536/536 [==============================] - 1s 1ms/step - loss: 0.3497 - accuracy: 0.8589 - val_loss: 0.3678 - val_accuracy: 0.8531\n",
            "Epoch 97/100\n",
            "536/536 [==============================] - 1s 1ms/step - loss: 0.3494 - accuracy: 0.8580 - val_loss: 0.3679 - val_accuracy: 0.8519\n",
            "Epoch 98/100\n",
            "536/536 [==============================] - 1s 1ms/step - loss: 0.3486 - accuracy: 0.8587 - val_loss: 0.3678 - val_accuracy: 0.8516\n",
            "Epoch 99/100\n",
            "536/536 [==============================] - 1s 1ms/step - loss: 0.3488 - accuracy: 0.8614 - val_loss: 0.3679 - val_accuracy: 0.8523\n",
            "Epoch 100/100\n",
            "536/536 [==============================] - 1s 1ms/step - loss: 0.3484 - accuracy: 0.8606 - val_loss: 0.3675 - val_accuracy: 0.8527\n"
          ],
          "name": "stdout"
        }
      ]
    },
    {
      "cell_type": "code",
      "metadata": {
        "id": "nPbSohw1ptIB",
        "colab_type": "code",
        "colab": {}
      },
      "source": [
        "# train accuracy: 0.8606  val_accuracy: 0.8527\n"
      ],
      "execution_count": null,
      "outputs": []
    },
    {
      "cell_type": "code",
      "metadata": {
        "id": "koXcCU67qNn7",
        "colab_type": "code",
        "colab": {}
      },
      "source": [
        "#now trying to add more hidden layers to increase further accuracy 1st hidden layer with 10 nuerons\n",
        "classifier.add(Dense( units = 10 , kernel_initializer = 'uniform',activation = 'relu',input_dim =11))"
      ],
      "execution_count": null,
      "outputs": []
    },
    {
      "cell_type": "code",
      "metadata": {
        "id": "Wq5xunOQqxLz",
        "colab_type": "code",
        "colab": {}
      },
      "source": [
        "#2st hidden layer with 15 nuerons\n",
        "classifier.add(Dense( units = 15 , kernel_initializer = 'uniform',activation = 'relu'))"
      ],
      "execution_count": null,
      "outputs": []
    },
    {
      "cell_type": "code",
      "metadata": {
        "id": "Xs_cX5wXrM6U",
        "colab_type": "code",
        "colab": {}
      },
      "source": [
        "#3rd hidden layer with 10 nuerons\n",
        "classifier.add(Dense( units = 10 , kernel_initializer = 'uniform',activation = 'relu'))"
      ],
      "execution_count": null,
      "outputs": []
    },
    {
      "cell_type": "code",
      "metadata": {
        "id": "lPu4OzDUrTfz",
        "colab_type": "code",
        "colab": {}
      },
      "source": [
        "classifier.compile(optimizer='Adamax',loss= 'binary_crossentropy', metrics = ['accuracy'])"
      ],
      "execution_count": null,
      "outputs": []
    },
    {
      "cell_type": "code",
      "metadata": {
        "id": "pHVf4icer0EB",
        "colab_type": "code",
        "colab": {
          "base_uri": "https://localhost:8080/",
          "height": 1000
        },
        "outputId": "7a77ca4d-3a63-4ff3-9776-1a869854840a"
      },
      "source": [
        "# Fitting the ANN to the Training set\n",
        "model_history2=classifier.fit(x_train, y_train,validation_split=0.33, batch_size = 10, epochs = 100)"
      ],
      "execution_count": null,
      "outputs": [
        {
          "output_type": "stream",
          "text": [
            "Epoch 1/100\n",
            "536/536 [==============================] - 1s 2ms/step - loss: 2.2858 - accuracy: 0.7962 - val_loss: 2.1946 - val_accuracy: 0.7955\n",
            "Epoch 2/100\n",
            "536/536 [==============================] - 1s 2ms/step - loss: 1.9979 - accuracy: 0.7962 - val_loss: 1.9483 - val_accuracy: 0.7955\n",
            "Epoch 3/100\n",
            "536/536 [==============================] - 1s 2ms/step - loss: 1.9231 - accuracy: 0.7962 - val_loss: 1.9145 - val_accuracy: 0.7955\n",
            "Epoch 4/100\n",
            "536/536 [==============================] - 1s 2ms/step - loss: 1.8855 - accuracy: 0.7962 - val_loss: 1.8659 - val_accuracy: 0.7955\n",
            "Epoch 5/100\n",
            "536/536 [==============================] - 1s 2ms/step - loss: 1.8299 - accuracy: 0.7962 - val_loss: 1.8192 - val_accuracy: 0.7955\n",
            "Epoch 6/100\n",
            "536/536 [==============================] - 1s 2ms/step - loss: 1.7979 - accuracy: 0.2030 - val_loss: 1.7992 - val_accuracy: 0.0000e+00\n",
            "Epoch 7/100\n",
            "536/536 [==============================] - 1s 2ms/step - loss: 1.7779 - accuracy: 0.0000e+00 - val_loss: 1.7868 - val_accuracy: 0.0000e+00\n",
            "Epoch 8/100\n",
            "536/536 [==============================] - 1s 2ms/step - loss: 1.7676 - accuracy: 0.0000e+00 - val_loss: 1.7824 - val_accuracy: 0.0000e+00\n",
            "Epoch 9/100\n",
            "536/536 [==============================] - 1s 2ms/step - loss: 1.7622 - accuracy: 0.0000e+00 - val_loss: 1.7769 - val_accuracy: 0.0000e+00\n",
            "Epoch 10/100\n",
            "536/536 [==============================] - 1s 2ms/step - loss: 1.7583 - accuracy: 0.0000e+00 - val_loss: 1.7722 - val_accuracy: 0.0000e+00\n",
            "Epoch 11/100\n",
            "536/536 [==============================] - 1s 2ms/step - loss: 1.7540 - accuracy: 0.0000e+00 - val_loss: 1.7683 - val_accuracy: 0.0000e+00\n",
            "Epoch 12/100\n",
            "536/536 [==============================] - 1s 2ms/step - loss: 1.7490 - accuracy: 0.0000e+00 - val_loss: 1.7646 - val_accuracy: 0.0000e+00\n",
            "Epoch 13/100\n",
            "536/536 [==============================] - 1s 2ms/step - loss: 1.7451 - accuracy: 0.0000e+00 - val_loss: 1.7607 - val_accuracy: 0.0000e+00\n",
            "Epoch 14/100\n",
            "536/536 [==============================] - 1s 2ms/step - loss: 1.7426 - accuracy: 0.0000e+00 - val_loss: 1.7588 - val_accuracy: 0.0000e+00\n",
            "Epoch 15/100\n",
            "536/536 [==============================] - 1s 2ms/step - loss: 1.7403 - accuracy: 0.0026 - val_loss: 1.7573 - val_accuracy: 0.0000e+00\n",
            "Epoch 16/100\n",
            "536/536 [==============================] - 1s 2ms/step - loss: 1.7394 - accuracy: 0.0179 - val_loss: 1.7577 - val_accuracy: 0.1303\n",
            "Epoch 17/100\n",
            "536/536 [==============================] - 1s 2ms/step - loss: 1.7386 - accuracy: 0.0424 - val_loss: 1.7580 - val_accuracy: 0.1053\n",
            "Epoch 18/100\n",
            "536/536 [==============================] - 1s 2ms/step - loss: 1.7388 - accuracy: 0.0795 - val_loss: 1.7586 - val_accuracy: 0.0837\n",
            "Epoch 19/100\n",
            "536/536 [==============================] - 1s 2ms/step - loss: 1.7387 - accuracy: 0.0636 - val_loss: 1.7580 - val_accuracy: 0.0333\n",
            "Epoch 20/100\n",
            "536/536 [==============================] - 1s 2ms/step - loss: 1.7384 - accuracy: 0.0237 - val_loss: 1.7622 - val_accuracy: 0.0000e+00\n",
            "Epoch 21/100\n",
            "536/536 [==============================] - 1s 2ms/step - loss: 1.7383 - accuracy: 0.0049 - val_loss: 1.7575 - val_accuracy: 0.0000e+00\n",
            "Epoch 22/100\n",
            "536/536 [==============================] - 1s 2ms/step - loss: 1.7384 - accuracy: 1.8660e-04 - val_loss: 1.7572 - val_accuracy: 0.0000e+00\n",
            "Epoch 23/100\n",
            "536/536 [==============================] - 1s 2ms/step - loss: 1.7393 - accuracy: 0.0103 - val_loss: 1.7567 - val_accuracy: 0.0000e+00\n",
            "Epoch 24/100\n",
            "536/536 [==============================] - 1s 2ms/step - loss: 1.7385 - accuracy: 0.0075 - val_loss: 1.7573 - val_accuracy: 0.0000e+00\n",
            "Epoch 25/100\n",
            "536/536 [==============================] - 1s 2ms/step - loss: 1.7385 - accuracy: 3.7320e-04 - val_loss: 1.7563 - val_accuracy: 0.0000e+00\n",
            "Epoch 26/100\n",
            "536/536 [==============================] - 1s 2ms/step - loss: 1.7383 - accuracy: 0.0095 - val_loss: 1.7595 - val_accuracy: 0.0000e+00\n",
            "Epoch 27/100\n",
            "536/536 [==============================] - 1s 2ms/step - loss: 1.7388 - accuracy: 0.0325 - val_loss: 1.7575 - val_accuracy: 0.0000e+00\n",
            "Epoch 28/100\n",
            "536/536 [==============================] - 1s 2ms/step - loss: 1.7385 - accuracy: 0.0293 - val_loss: 1.7563 - val_accuracy: 0.0000e+00\n",
            "Epoch 29/100\n",
            "536/536 [==============================] - 1s 2ms/step - loss: 1.7384 - accuracy: 0.0017 - val_loss: 1.7573 - val_accuracy: 0.0000e+00\n",
            "Epoch 30/100\n",
            "536/536 [==============================] - 1s 2ms/step - loss: 1.7385 - accuracy: 0.0000e+00 - val_loss: 1.7581 - val_accuracy: 0.0000e+00\n",
            "Epoch 31/100\n",
            "536/536 [==============================] - 1s 2ms/step - loss: 1.7385 - accuracy: 0.0000e+00 - val_loss: 1.7562 - val_accuracy: 0.0000e+00\n",
            "Epoch 32/100\n",
            "536/536 [==============================] - 1s 2ms/step - loss: 1.7387 - accuracy: 0.0103 - val_loss: 1.7565 - val_accuracy: 0.0000e+00\n",
            "Epoch 33/100\n",
            "536/536 [==============================] - 1s 2ms/step - loss: 1.7383 - accuracy: 0.0000e+00 - val_loss: 1.7564 - val_accuracy: 0.0000e+00\n",
            "Epoch 34/100\n",
            "536/536 [==============================] - 1s 2ms/step - loss: 1.7380 - accuracy: 0.0000e+00 - val_loss: 1.7564 - val_accuracy: 0.0000e+00\n",
            "Epoch 35/100\n",
            "536/536 [==============================] - 1s 2ms/step - loss: 1.7385 - accuracy: 0.0080 - val_loss: 1.7567 - val_accuracy: 0.0000e+00\n",
            "Epoch 36/100\n",
            "536/536 [==============================] - 1s 2ms/step - loss: 1.7386 - accuracy: 0.0909 - val_loss: 1.7563 - val_accuracy: 0.5964\n",
            "Epoch 37/100\n",
            "536/536 [==============================] - 1s 2ms/step - loss: 1.7392 - accuracy: 0.4952 - val_loss: 1.7572 - val_accuracy: 0.3041\n",
            "Epoch 38/100\n",
            "536/536 [==============================] - 1s 2ms/step - loss: 1.7381 - accuracy: 0.1989 - val_loss: 1.7561 - val_accuracy: 0.0000e+00\n",
            "Epoch 39/100\n",
            "536/536 [==============================] - 1s 2ms/step - loss: 1.7382 - accuracy: 0.1635 - val_loss: 1.7556 - val_accuracy: 0.6622\n",
            "Epoch 40/100\n",
            "536/536 [==============================] - 1s 2ms/step - loss: 1.7380 - accuracy: 0.0603 - val_loss: 1.7566 - val_accuracy: 0.0000e+00\n",
            "Epoch 41/100\n",
            "536/536 [==============================] - 1s 2ms/step - loss: 1.7383 - accuracy: 0.2034 - val_loss: 1.7559 - val_accuracy: 0.5763\n",
            "Epoch 42/100\n",
            "536/536 [==============================] - 1s 2ms/step - loss: 1.7384 - accuracy: 0.2142 - val_loss: 1.7588 - val_accuracy: 0.2775\n",
            "Epoch 43/100\n",
            "536/536 [==============================] - 1s 2ms/step - loss: 1.7381 - accuracy: 0.0254 - val_loss: 1.7560 - val_accuracy: 0.0000e+00\n",
            "Epoch 44/100\n",
            "536/536 [==============================] - 1s 2ms/step - loss: 1.7379 - accuracy: 0.0000e+00 - val_loss: 1.7568 - val_accuracy: 0.0000e+00\n",
            "Epoch 45/100\n",
            "536/536 [==============================] - 1s 2ms/step - loss: 1.7382 - accuracy: 0.0000e+00 - val_loss: 1.7565 - val_accuracy: 0.0000e+00\n",
            "Epoch 46/100\n",
            "536/536 [==============================] - 1s 2ms/step - loss: 1.7379 - accuracy: 0.0034 - val_loss: 1.7568 - val_accuracy: 0.0000e+00\n",
            "Epoch 47/100\n",
            "536/536 [==============================] - 1s 2ms/step - loss: 1.7382 - accuracy: 3.7320e-04 - val_loss: 1.7566 - val_accuracy: 0.0000e+00\n",
            "Epoch 48/100\n",
            "536/536 [==============================] - 1s 2ms/step - loss: 1.7381 - accuracy: 0.0368 - val_loss: 1.7562 - val_accuracy: 0.3510\n",
            "Epoch 49/100\n",
            "536/536 [==============================] - 1s 2ms/step - loss: 1.7378 - accuracy: 0.0621 - val_loss: 1.7577 - val_accuracy: 0.1916\n",
            "Epoch 50/100\n",
            "536/536 [==============================] - 1s 2ms/step - loss: 1.7382 - accuracy: 0.0403 - val_loss: 1.7560 - val_accuracy: 0.0000e+00\n",
            "Epoch 51/100\n",
            "536/536 [==============================] - 1s 2ms/step - loss: 1.7375 - accuracy: 0.0541 - val_loss: 1.7566 - val_accuracy: 0.0125\n",
            "Epoch 52/100\n",
            "536/536 [==============================] - 1s 2ms/step - loss: 1.7376 - accuracy: 0.0021 - val_loss: 1.7595 - val_accuracy: 0.0000e+00\n",
            "Epoch 53/100\n",
            "536/536 [==============================] - 1s 2ms/step - loss: 1.7378 - accuracy: 0.0000e+00 - val_loss: 1.7580 - val_accuracy: 0.0000e+00\n",
            "Epoch 54/100\n",
            "536/536 [==============================] - 1s 2ms/step - loss: 1.7381 - accuracy: 3.7320e-04 - val_loss: 1.7568 - val_accuracy: 0.0000e+00\n",
            "Epoch 55/100\n",
            "536/536 [==============================] - 1s 2ms/step - loss: 1.7380 - accuracy: 0.0147 - val_loss: 1.7562 - val_accuracy: 0.0000e+00\n",
            "Epoch 56/100\n",
            "536/536 [==============================] - 1s 2ms/step - loss: 1.7380 - accuracy: 0.0000e+00 - val_loss: 1.7559 - val_accuracy: 0.0000e+00\n",
            "Epoch 57/100\n",
            "536/536 [==============================] - 1s 2ms/step - loss: 1.7380 - accuracy: 0.0000e+00 - val_loss: 1.7562 - val_accuracy: 0.0000e+00\n",
            "Epoch 58/100\n",
            "536/536 [==============================] - 1s 2ms/step - loss: 1.7376 - accuracy: 0.0000e+00 - val_loss: 1.7577 - val_accuracy: 0.0000e+00\n",
            "Epoch 59/100\n",
            "536/536 [==============================] - 1s 2ms/step - loss: 1.7376 - accuracy: 0.0000e+00 - val_loss: 1.7575 - val_accuracy: 0.0000e+00\n",
            "Epoch 60/100\n",
            "536/536 [==============================] - 1s 2ms/step - loss: 1.7439 - accuracy: 0.0131 - val_loss: 1.7566 - val_accuracy: 0.0000e+00\n",
            "Epoch 61/100\n",
            "536/536 [==============================] - 1s 2ms/step - loss: 1.7373 - accuracy: 5.5981e-04 - val_loss: 1.7561 - val_accuracy: 0.0000e+00\n",
            "Epoch 62/100\n",
            "536/536 [==============================] - 1s 2ms/step - loss: 1.7377 - accuracy: 0.0062 - val_loss: 1.7567 - val_accuracy: 0.0000e+00\n",
            "Epoch 63/100\n",
            "536/536 [==============================] - 1s 2ms/step - loss: 1.7377 - accuracy: 0.0000e+00 - val_loss: 1.7563 - val_accuracy: 0.0000e+00\n",
            "Epoch 64/100\n",
            "536/536 [==============================] - 1s 2ms/step - loss: 1.7378 - accuracy: 1.8660e-04 - val_loss: 1.7567 - val_accuracy: 0.0000e+00\n",
            "Epoch 65/100\n",
            "536/536 [==============================] - 1s 2ms/step - loss: 1.7378 - accuracy: 0.0000e+00 - val_loss: 1.7563 - val_accuracy: 0.0000e+00\n",
            "Epoch 66/100\n",
            "536/536 [==============================] - 1s 2ms/step - loss: 1.7374 - accuracy: 0.0000e+00 - val_loss: 1.7569 - val_accuracy: 0.0000e+00\n",
            "Epoch 67/100\n",
            "536/536 [==============================] - 1s 2ms/step - loss: 1.7382 - accuracy: 0.0024 - val_loss: 1.7559 - val_accuracy: 0.0000e+00\n",
            "Epoch 68/100\n",
            "536/536 [==============================] - 1s 2ms/step - loss: 1.7378 - accuracy: 0.0090 - val_loss: 1.7568 - val_accuracy: 0.0000e+00\n",
            "Epoch 69/100\n",
            "536/536 [==============================] - 1s 2ms/step - loss: 1.7379 - accuracy: 0.0028 - val_loss: 1.7575 - val_accuracy: 0.0000e+00\n",
            "Epoch 70/100\n",
            "536/536 [==============================] - 1s 2ms/step - loss: 1.7382 - accuracy: 0.0000e+00 - val_loss: 1.7563 - val_accuracy: 0.0000e+00\n",
            "Epoch 71/100\n",
            "536/536 [==============================] - 1s 2ms/step - loss: 1.7377 - accuracy: 0.0000e+00 - val_loss: 1.7559 - val_accuracy: 0.0000e+00\n",
            "Epoch 72/100\n",
            "536/536 [==============================] - 1s 2ms/step - loss: 1.7373 - accuracy: 0.0032 - val_loss: 1.7574 - val_accuracy: 0.1734\n",
            "Epoch 73/100\n",
            "536/536 [==============================] - 1s 2ms/step - loss: 1.7381 - accuracy: 0.0409 - val_loss: 1.7568 - val_accuracy: 0.0000e+00\n",
            "Epoch 74/100\n",
            "536/536 [==============================] - 1s 2ms/step - loss: 1.7380 - accuracy: 0.0000e+00 - val_loss: 1.7567 - val_accuracy: 0.0000e+00\n",
            "Epoch 75/100\n",
            "536/536 [==============================] - 1s 2ms/step - loss: 1.7377 - accuracy: 0.0108 - val_loss: 1.7565 - val_accuracy: 0.0000e+00\n",
            "Epoch 76/100\n",
            "536/536 [==============================] - 1s 2ms/step - loss: 1.7376 - accuracy: 0.0022 - val_loss: 1.7562 - val_accuracy: 0.0000e+00\n",
            "Epoch 77/100\n",
            "536/536 [==============================] - 1s 2ms/step - loss: 1.7383 - accuracy: 0.0063 - val_loss: 1.7564 - val_accuracy: 0.0000e+00\n",
            "Epoch 78/100\n",
            "536/536 [==============================] - 1s 2ms/step - loss: 1.7376 - accuracy: 7.4641e-04 - val_loss: 1.7573 - val_accuracy: 0.0000e+00\n",
            "Epoch 79/100\n",
            "536/536 [==============================] - 1s 2ms/step - loss: 1.7373 - accuracy: 0.0000e+00 - val_loss: 1.7565 - val_accuracy: 0.0000e+00\n",
            "Epoch 80/100\n",
            "536/536 [==============================] - 1s 2ms/step - loss: 1.7375 - accuracy: 0.0095 - val_loss: 1.7572 - val_accuracy: 0.1621\n",
            "Epoch 81/100\n",
            "536/536 [==============================] - 1s 2ms/step - loss: 1.7395 - accuracy: 0.0481 - val_loss: 1.7560 - val_accuracy: 0.0000e+00\n",
            "Epoch 82/100\n",
            "536/536 [==============================] - 1s 2ms/step - loss: 1.7377 - accuracy: 0.0000e+00 - val_loss: 1.7561 - val_accuracy: 0.0000e+00\n",
            "Epoch 83/100\n",
            "536/536 [==============================] - 1s 2ms/step - loss: 1.7373 - accuracy: 0.0108 - val_loss: 1.7580 - val_accuracy: 0.0000e+00\n",
            "Epoch 84/100\n",
            "536/536 [==============================] - 1s 2ms/step - loss: 1.7399 - accuracy: 0.0078 - val_loss: 1.7571 - val_accuracy: 0.3533\n",
            "Epoch 85/100\n",
            "536/536 [==============================] - 1s 2ms/step - loss: 1.7373 - accuracy: 0.2476 - val_loss: 1.7565 - val_accuracy: 0.0273\n",
            "Epoch 86/100\n",
            "536/536 [==============================] - 1s 2ms/step - loss: 1.7376 - accuracy: 0.0047 - val_loss: 1.7560 - val_accuracy: 0.0000e+00\n",
            "Epoch 87/100\n",
            "536/536 [==============================] - 1s 2ms/step - loss: 1.7378 - accuracy: 0.0000e+00 - val_loss: 1.7560 - val_accuracy: 0.0000e+00\n",
            "Epoch 88/100\n",
            "536/536 [==============================] - 1s 2ms/step - loss: 1.7379 - accuracy: 5.5981e-04 - val_loss: 1.7572 - val_accuracy: 0.0000e+00\n",
            "Epoch 89/100\n",
            "536/536 [==============================] - 1s 2ms/step - loss: 1.7374 - accuracy: 0.0000e+00 - val_loss: 1.7579 - val_accuracy: 0.0000e+00\n",
            "Epoch 90/100\n",
            "536/536 [==============================] - 1s 2ms/step - loss: 1.7374 - accuracy: 9.3301e-04 - val_loss: 1.7562 - val_accuracy: 0.0000e+00\n",
            "Epoch 91/100\n",
            "536/536 [==============================] - 1s 2ms/step - loss: 1.7372 - accuracy: 0.0758 - val_loss: 1.7563 - val_accuracy: 0.0000e+00\n",
            "Epoch 92/100\n",
            "536/536 [==============================] - 1s 2ms/step - loss: 1.7374 - accuracy: 0.0000e+00 - val_loss: 1.7562 - val_accuracy: 0.0000e+00\n",
            "Epoch 93/100\n",
            "536/536 [==============================] - 1s 2ms/step - loss: 1.7378 - accuracy: 0.0179 - val_loss: 1.7562 - val_accuracy: 0.0000e+00\n",
            "Epoch 94/100\n",
            "536/536 [==============================] - 1s 2ms/step - loss: 1.7379 - accuracy: 0.0689 - val_loss: 1.7570 - val_accuracy: 0.0337\n",
            "Epoch 95/100\n",
            "536/536 [==============================] - 1s 2ms/step - loss: 1.7389 - accuracy: 0.1198 - val_loss: 1.7560 - val_accuracy: 0.0000e+00\n",
            "Epoch 96/100\n",
            "536/536 [==============================] - 1s 2ms/step - loss: 1.7371 - accuracy: 0.0955 - val_loss: 1.7580 - val_accuracy: 0.6017\n",
            "Epoch 97/100\n",
            "536/536 [==============================] - 1s 2ms/step - loss: 1.7375 - accuracy: 0.4512 - val_loss: 1.7563 - val_accuracy: 0.5562\n",
            "Epoch 98/100\n",
            "536/536 [==============================] - 1s 2ms/step - loss: 1.7375 - accuracy: 0.5400 - val_loss: 1.7580 - val_accuracy: 0.0000e+00\n",
            "Epoch 99/100\n",
            "536/536 [==============================] - 1s 2ms/step - loss: 1.7376 - accuracy: 0.1502 - val_loss: 1.7563 - val_accuracy: 0.2942\n",
            "Epoch 100/100\n",
            "536/536 [==============================] - 1s 2ms/step - loss: 1.7374 - accuracy: 0.3322 - val_loss: 1.7563 - val_accuracy: 0.4298\n"
          ],
          "name": "stdout"
        }
      ]
    },
    {
      "cell_type": "code",
      "metadata": {
        "id": "Gj8IJS2QsHXe",
        "colab_type": "code",
        "colab": {}
      },
      "source": [
        "#trying with implimenting drop out"
      ],
      "execution_count": null,
      "outputs": []
    },
    {
      "cell_type": "code",
      "metadata": {
        "id": "5ot7XRHluXU7",
        "colab_type": "code",
        "colab": {}
      },
      "source": [
        "#now trying to add more hidden layers to increase further accuracy 1st hidden layer with 10 nuerons\n",
        "classifier.add(Dense( units = 10 , kernel_initializer = 'uniform',activation = 'relu',input_dim =11))\n",
        "classifier.add(Dropout(0.30))"
      ],
      "execution_count": null,
      "outputs": []
    },
    {
      "cell_type": "code",
      "metadata": {
        "id": "41Pnbb6cumY3",
        "colab_type": "code",
        "colab": {}
      },
      "source": [
        "#2st hidden layer with 15 nuerons\n",
        "classifier.add(Dense( units = 15 , kernel_initializer = 'uniform',activation = 'relu'))\n",
        "classifier.add(Dropout(0.40))"
      ],
      "execution_count": null,
      "outputs": []
    },
    {
      "cell_type": "code",
      "metadata": {
        "id": "pT5MoveEuxCR",
        "colab_type": "code",
        "colab": {}
      },
      "source": [
        "#3rd hidden layer with 10 nuerons\n",
        "classifier.add(Dense( units = 10 , kernel_initializer = 'uniform',activation = 'relu'))\n",
        "classifier.add(Dropout(0.30))"
      ],
      "execution_count": null,
      "outputs": []
    },
    {
      "cell_type": "code",
      "metadata": {
        "id": "KU75G_g-u3dh",
        "colab_type": "code",
        "colab": {}
      },
      "source": [
        "# Compiling the ANN\n",
        "classifier.compile(optimizer = 'Adamax', loss = 'binary_crossentropy', metrics = ['accuracy'])\n"
      ],
      "execution_count": null,
      "outputs": []
    },
    {
      "cell_type": "code",
      "metadata": {
        "id": "vyPXXWSVu-zO",
        "colab_type": "code",
        "colab": {
          "base_uri": "https://localhost:8080/",
          "height": 1000
        },
        "outputId": "e5acb690-659c-47c7-d2ab-5ad4e8f5680d"
      },
      "source": [
        "\n",
        "\n",
        "# Fitting the ANN to the Training set\n",
        "model_history3=classifier.fit(x_train, y_train,validation_split=0.33, batch_size = 10, epochs = 100)"
      ],
      "execution_count": null,
      "outputs": [
        {
          "output_type": "stream",
          "text": [
            "Epoch 1/100\n",
            "536/536 [==============================] - 1s 2ms/step - loss: 1.9098 - accuracy: 0.0564 - val_loss: 1.0885 - val_accuracy: 0.0000e+00\n",
            "Epoch 2/100\n",
            "536/536 [==============================] - 1s 2ms/step - loss: 1.4548 - accuracy: 0.1021 - val_loss: 0.5657 - val_accuracy: 0.0254\n",
            "Epoch 3/100\n",
            "536/536 [==============================] - 1s 2ms/step - loss: 1.3419 - accuracy: 0.1416 - val_loss: 0.5172 - val_accuracy: 0.0473\n",
            "Epoch 4/100\n",
            "536/536 [==============================] - 1s 2ms/step - loss: 1.3013 - accuracy: 0.1715 - val_loss: 0.4878 - val_accuracy: 0.2052\n",
            "Epoch 5/100\n",
            "536/536 [==============================] - 1s 2ms/step - loss: 1.2784 - accuracy: 0.1515 - val_loss: 0.4748 - val_accuracy: 0.1723\n",
            "Epoch 6/100\n",
            "536/536 [==============================] - 1s 2ms/step - loss: 1.2687 - accuracy: 0.1056 - val_loss: 0.4536 - val_accuracy: 0.0000e+00\n",
            "Epoch 7/100\n",
            "536/536 [==============================] - 1s 2ms/step - loss: 1.2453 - accuracy: 0.0758 - val_loss: 0.4357 - val_accuracy: 0.0000e+00\n",
            "Epoch 8/100\n",
            "536/536 [==============================] - 1s 2ms/step - loss: 1.2189 - accuracy: 0.0435 - val_loss: 0.4167 - val_accuracy: 0.0000e+00\n",
            "Epoch 9/100\n",
            "536/536 [==============================] - 1s 2ms/step - loss: 1.2157 - accuracy: 0.0353 - val_loss: 0.4139 - val_accuracy: 0.0000e+00\n",
            "Epoch 10/100\n",
            "536/536 [==============================] - 1s 2ms/step - loss: 1.2221 - accuracy: 0.0340 - val_loss: 0.4147 - val_accuracy: 0.0000e+00\n",
            "Epoch 11/100\n",
            "536/536 [==============================] - 1s 2ms/step - loss: 1.2477 - accuracy: 0.0336 - val_loss: 0.4224 - val_accuracy: 0.0000e+00\n",
            "Epoch 12/100\n",
            "536/536 [==============================] - 1s 2ms/step - loss: 1.2028 - accuracy: 0.0295 - val_loss: 0.4176 - val_accuracy: 0.0000e+00\n",
            "Epoch 13/100\n",
            "536/536 [==============================] - 1s 2ms/step - loss: 1.2179 - accuracy: 0.0321 - val_loss: 0.4079 - val_accuracy: 0.0000e+00\n",
            "Epoch 14/100\n",
            "536/536 [==============================] - 1s 2ms/step - loss: 1.2112 - accuracy: 0.0362 - val_loss: 0.3989 - val_accuracy: 0.0000e+00\n",
            "Epoch 15/100\n",
            "536/536 [==============================] - 1s 2ms/step - loss: 1.2187 - accuracy: 0.0446 - val_loss: 0.4102 - val_accuracy: 0.0000e+00\n",
            "Epoch 16/100\n",
            "536/536 [==============================] - 1s 2ms/step - loss: 1.2187 - accuracy: 0.0539 - val_loss: 0.4069 - val_accuracy: 0.0000e+00\n",
            "Epoch 17/100\n",
            "536/536 [==============================] - 1s 2ms/step - loss: 1.2165 - accuracy: 0.0502 - val_loss: 0.4119 - val_accuracy: 0.0000e+00\n",
            "Epoch 18/100\n",
            "536/536 [==============================] - 1s 2ms/step - loss: 1.2098 - accuracy: 0.0539 - val_loss: 0.4000 - val_accuracy: 0.0371\n",
            "Epoch 19/100\n",
            "536/536 [==============================] - 1s 2ms/step - loss: 1.2311 - accuracy: 0.0411 - val_loss: 0.4131 - val_accuracy: 0.0000e+00\n",
            "Epoch 20/100\n",
            "536/536 [==============================] - 1s 2ms/step - loss: 1.2108 - accuracy: 0.0634 - val_loss: 0.4186 - val_accuracy: 0.0716\n",
            "Epoch 21/100\n",
            "536/536 [==============================] - 1s 2ms/step - loss: 1.2271 - accuracy: 0.0569 - val_loss: 0.4156 - val_accuracy: 0.0000e+00\n",
            "Epoch 22/100\n",
            "536/536 [==============================] - 1s 2ms/step - loss: 1.1883 - accuracy: 0.0726 - val_loss: 0.4000 - val_accuracy: 0.0000e+00\n",
            "Epoch 23/100\n",
            "536/536 [==============================] - 1s 2ms/step - loss: 1.2017 - accuracy: 0.0666 - val_loss: 0.4035 - val_accuracy: 0.0890\n",
            "Epoch 24/100\n",
            "536/536 [==============================] - 1s 2ms/step - loss: 1.1999 - accuracy: 0.0648 - val_loss: 0.4047 - val_accuracy: 0.1219\n",
            "Epoch 25/100\n",
            "536/536 [==============================] - 1s 2ms/step - loss: 1.1846 - accuracy: 0.0504 - val_loss: 0.3978 - val_accuracy: 0.0000e+00\n",
            "Epoch 26/100\n",
            "536/536 [==============================] - 1s 2ms/step - loss: 1.2300 - accuracy: 0.0550 - val_loss: 0.3979 - val_accuracy: 0.0057\n",
            "Epoch 27/100\n",
            "536/536 [==============================] - 1s 2ms/step - loss: 1.2022 - accuracy: 0.0724 - val_loss: 0.4072 - val_accuracy: 0.0700\n",
            "Epoch 28/100\n",
            "536/536 [==============================] - 1s 2ms/step - loss: 1.2029 - accuracy: 0.1000 - val_loss: 0.4039 - val_accuracy: 0.0000e+00\n",
            "Epoch 29/100\n",
            "536/536 [==============================] - 1s 2ms/step - loss: 1.2151 - accuracy: 0.0918 - val_loss: 0.4001 - val_accuracy: 0.2086\n",
            "Epoch 30/100\n",
            "536/536 [==============================] - 1s 2ms/step - loss: 1.2285 - accuracy: 0.0950 - val_loss: 0.4128 - val_accuracy: 0.0655\n",
            "Epoch 31/100\n",
            "536/536 [==============================] - 1s 2ms/step - loss: 1.2032 - accuracy: 0.0687 - val_loss: 0.4042 - val_accuracy: 0.0000e+00\n",
            "Epoch 32/100\n",
            "536/536 [==============================] - 1s 2ms/step - loss: 1.2044 - accuracy: 0.0593 - val_loss: 0.4062 - val_accuracy: 0.0000e+00\n",
            "Epoch 33/100\n",
            "536/536 [==============================] - 1s 2ms/step - loss: 1.1937 - accuracy: 0.1538 - val_loss: 0.4097 - val_accuracy: 0.1530\n",
            "Epoch 34/100\n",
            "536/536 [==============================] - 1s 2ms/step - loss: 1.2377 - accuracy: 0.0567 - val_loss: 0.3995 - val_accuracy: 0.0000e+00\n",
            "Epoch 35/100\n",
            "536/536 [==============================] - 1s 2ms/step - loss: 1.2124 - accuracy: 0.0522 - val_loss: 0.3959 - val_accuracy: 0.0000e+00\n",
            "Epoch 36/100\n",
            "536/536 [==============================] - 1s 2ms/step - loss: 1.2059 - accuracy: 0.0819 - val_loss: 0.4028 - val_accuracy: 0.0674\n",
            "Epoch 37/100\n",
            "536/536 [==============================] - 1s 2ms/step - loss: 1.2168 - accuracy: 0.0963 - val_loss: 0.4045 - val_accuracy: 0.0000e+00\n",
            "Epoch 38/100\n",
            "536/536 [==============================] - 1s 2ms/step - loss: 1.2109 - accuracy: 0.0493 - val_loss: 0.4066 - val_accuracy: 0.0000e+00\n",
            "Epoch 39/100\n",
            "536/536 [==============================] - 1s 2ms/step - loss: 1.2029 - accuracy: 0.0381 - val_loss: 0.4116 - val_accuracy: 0.0000e+00\n",
            "Epoch 40/100\n",
            "536/536 [==============================] - 1s 2ms/step - loss: 1.2159 - accuracy: 0.0541 - val_loss: 0.4041 - val_accuracy: 0.0000e+00\n",
            "Epoch 41/100\n",
            "536/536 [==============================] - 1s 2ms/step - loss: 1.1996 - accuracy: 0.0494 - val_loss: 0.4031 - val_accuracy: 0.0000e+00\n",
            "Epoch 42/100\n",
            "536/536 [==============================] - 1s 2ms/step - loss: 1.1989 - accuracy: 0.0864 - val_loss: 0.4062 - val_accuracy: 0.0299\n",
            "Epoch 43/100\n",
            "536/536 [==============================] - 1s 2ms/step - loss: 1.1917 - accuracy: 0.0674 - val_loss: 0.4015 - val_accuracy: 0.0545\n",
            "Epoch 44/100\n",
            "536/536 [==============================] - 1s 2ms/step - loss: 1.1909 - accuracy: 0.0927 - val_loss: 0.4095 - val_accuracy: 0.0000e+00\n",
            "Epoch 45/100\n",
            "536/536 [==============================] - 1s 2ms/step - loss: 1.2104 - accuracy: 0.1000 - val_loss: 0.3995 - val_accuracy: 0.0000e+00\n",
            "Epoch 46/100\n",
            "536/536 [==============================] - 1s 2ms/step - loss: 1.2004 - accuracy: 0.1278 - val_loss: 0.4067 - val_accuracy: 0.0000e+00\n",
            "Epoch 47/100\n",
            "536/536 [==============================] - 1s 2ms/step - loss: 1.2284 - accuracy: 0.0940 - val_loss: 0.4136 - val_accuracy: 0.0000e+00\n",
            "Epoch 48/100\n",
            "536/536 [==============================] - 1s 2ms/step - loss: 1.2167 - accuracy: 0.0829 - val_loss: 0.4086 - val_accuracy: 0.0000e+00\n",
            "Epoch 49/100\n",
            "536/536 [==============================] - 1s 2ms/step - loss: 1.1894 - accuracy: 0.1575 - val_loss: 0.3997 - val_accuracy: 0.0000e+00\n",
            "Epoch 50/100\n",
            "536/536 [==============================] - 1s 2ms/step - loss: 1.2079 - accuracy: 0.0552 - val_loss: 0.3921 - val_accuracy: 0.0000e+00\n",
            "Epoch 51/100\n",
            "536/536 [==============================] - 1s 2ms/step - loss: 1.2167 - accuracy: 0.0360 - val_loss: 0.4040 - val_accuracy: 0.1162\n",
            "Epoch 52/100\n",
            "536/536 [==============================] - 1s 2ms/step - loss: 1.2329 - accuracy: 0.0521 - val_loss: 0.4032 - val_accuracy: 0.0666\n",
            "Epoch 53/100\n",
            "536/536 [==============================] - 1s 2ms/step - loss: 1.2108 - accuracy: 0.0390 - val_loss: 0.3919 - val_accuracy: 0.0000e+00\n",
            "Epoch 54/100\n",
            "536/536 [==============================] - 1s 2ms/step - loss: 1.2104 - accuracy: 0.0407 - val_loss: 0.3900 - val_accuracy: 0.0000e+00\n",
            "Epoch 55/100\n",
            "536/536 [==============================] - 1s 2ms/step - loss: 1.2200 - accuracy: 0.0390 - val_loss: 0.4060 - val_accuracy: 0.1034\n",
            "Epoch 56/100\n",
            "536/536 [==============================] - 1s 2ms/step - loss: 1.2320 - accuracy: 0.0442 - val_loss: 0.4098 - val_accuracy: 0.1227\n",
            "Epoch 57/100\n",
            "536/536 [==============================] - 1s 2ms/step - loss: 1.1813 - accuracy: 0.0767 - val_loss: 0.4058 - val_accuracy: 0.0984\n",
            "Epoch 58/100\n",
            "536/536 [==============================] - 1s 2ms/step - loss: 1.2200 - accuracy: 0.0651 - val_loss: 0.4038 - val_accuracy: 0.0765\n",
            "Epoch 59/100\n",
            "536/536 [==============================] - 1s 2ms/step - loss: 1.1972 - accuracy: 0.0651 - val_loss: 0.4013 - val_accuracy: 0.0000e+00\n",
            "Epoch 60/100\n",
            "536/536 [==============================] - 1s 2ms/step - loss: 1.1989 - accuracy: 0.0702 - val_loss: 0.3925 - val_accuracy: 0.0000e+00\n",
            "Epoch 61/100\n",
            "536/536 [==============================] - 1s 2ms/step - loss: 1.1967 - accuracy: 0.0569 - val_loss: 0.3909 - val_accuracy: 0.0000e+00\n",
            "Epoch 62/100\n",
            "536/536 [==============================] - 1s 2ms/step - loss: 1.2293 - accuracy: 0.0396 - val_loss: 0.4018 - val_accuracy: 0.0000e+00\n",
            "Epoch 63/100\n",
            "536/536 [==============================] - 1s 2ms/step - loss: 1.2084 - accuracy: 0.0282 - val_loss: 0.3980 - val_accuracy: 0.0000e+00\n",
            "Epoch 64/100\n",
            "536/536 [==============================] - 1s 2ms/step - loss: 1.1953 - accuracy: 0.0237 - val_loss: 0.3985 - val_accuracy: 0.0000e+00\n",
            "Epoch 65/100\n",
            "536/536 [==============================] - 1s 2ms/step - loss: 1.1988 - accuracy: 0.0230 - val_loss: 0.4229 - val_accuracy: 0.0000e+00\n",
            "Epoch 66/100\n",
            "536/536 [==============================] - 1s 2ms/step - loss: 1.2075 - accuracy: 0.0246 - val_loss: 0.4081 - val_accuracy: 0.0000e+00\n",
            "Epoch 67/100\n",
            "536/536 [==============================] - 1s 2ms/step - loss: 1.1928 - accuracy: 0.0289 - val_loss: 0.3982 - val_accuracy: 0.0000e+00\n",
            "Epoch 68/100\n",
            "536/536 [==============================] - 1s 2ms/step - loss: 1.2203 - accuracy: 0.0933 - val_loss: 0.4193 - val_accuracy: 0.0000e+00\n",
            "Epoch 69/100\n",
            "536/536 [==============================] - 1s 2ms/step - loss: 1.2018 - accuracy: 0.0756 - val_loss: 0.4018 - val_accuracy: 0.3431\n",
            "Epoch 70/100\n",
            "536/536 [==============================] - 1s 2ms/step - loss: 1.2194 - accuracy: 0.2387 - val_loss: 0.3979 - val_accuracy: 0.2764\n",
            "Epoch 71/100\n",
            "536/536 [==============================] - 1s 2ms/step - loss: 1.2015 - accuracy: 0.1560 - val_loss: 0.4133 - val_accuracy: 0.3230\n",
            "Epoch 72/100\n",
            "536/536 [==============================] - 1s 2ms/step - loss: 1.2148 - accuracy: 0.1450 - val_loss: 0.4339 - val_accuracy: 0.0000e+00\n",
            "Epoch 73/100\n",
            "536/536 [==============================] - 1s 2ms/step - loss: 1.2151 - accuracy: 0.2375 - val_loss: 0.4024 - val_accuracy: 0.3745\n",
            "Epoch 74/100\n",
            "536/536 [==============================] - 1s 2ms/step - loss: 1.2184 - accuracy: 0.3004 - val_loss: 0.3991 - val_accuracy: 0.4801\n",
            "Epoch 75/100\n",
            "536/536 [==============================] - 1s 2ms/step - loss: 1.1969 - accuracy: 0.2782 - val_loss: 0.3976 - val_accuracy: 0.6819\n",
            "Epoch 76/100\n",
            "536/536 [==============================] - 1s 2ms/step - loss: 1.2419 - accuracy: 0.2777 - val_loss: 0.4002 - val_accuracy: 0.5199\n",
            "Epoch 77/100\n",
            "536/536 [==============================] - 1s 2ms/step - loss: 1.1831 - accuracy: 0.2390 - val_loss: 0.4214 - val_accuracy: 0.6335\n",
            "Epoch 78/100\n",
            "536/536 [==============================] - 1s 2ms/step - loss: 1.2202 - accuracy: 0.3532 - val_loss: 0.4002 - val_accuracy: 0.4589\n",
            "Epoch 79/100\n",
            "536/536 [==============================] - 1s 2ms/step - loss: 1.1910 - accuracy: 0.2362 - val_loss: 0.3931 - val_accuracy: 0.0000e+00\n",
            "Epoch 80/100\n",
            "536/536 [==============================] - 1s 2ms/step - loss: 1.2115 - accuracy: 0.0892 - val_loss: 0.3941 - val_accuracy: 0.0000e+00\n",
            "Epoch 81/100\n",
            "536/536 [==============================] - 1s 2ms/step - loss: 1.1821 - accuracy: 0.0659 - val_loss: 0.4078 - val_accuracy: 0.1829\n",
            "Epoch 82/100\n",
            "536/536 [==============================] - 1s 2ms/step - loss: 1.1955 - accuracy: 0.0853 - val_loss: 0.3978 - val_accuracy: 0.2537\n",
            "Epoch 83/100\n",
            "536/536 [==============================] - 1s 2ms/step - loss: 1.2153 - accuracy: 0.1762 - val_loss: 0.3838 - val_accuracy: 0.0000e+00\n",
            "Epoch 84/100\n",
            "536/536 [==============================] - 1s 2ms/step - loss: 1.2151 - accuracy: 0.0521 - val_loss: 0.4035 - val_accuracy: 0.0401\n",
            "Epoch 85/100\n",
            "536/536 [==============================] - 1s 2ms/step - loss: 1.2180 - accuracy: 0.0728 - val_loss: 0.4163 - val_accuracy: 0.0000e+00\n",
            "Epoch 86/100\n",
            "536/536 [==============================] - 1s 2ms/step - loss: 1.2325 - accuracy: 0.0355 - val_loss: 0.4084 - val_accuracy: 0.0000e+00\n",
            "Epoch 87/100\n",
            "536/536 [==============================] - 1s 2ms/step - loss: 1.1928 - accuracy: 0.0239 - val_loss: 0.4028 - val_accuracy: 0.0000e+00\n",
            "Epoch 88/100\n",
            "536/536 [==============================] - 1s 2ms/step - loss: 1.1909 - accuracy: 0.0317 - val_loss: 0.4016 - val_accuracy: 0.0000e+00\n",
            "Epoch 89/100\n",
            "536/536 [==============================] - 1s 2ms/step - loss: 1.2246 - accuracy: 0.0414 - val_loss: 0.3956 - val_accuracy: 0.0000e+00\n",
            "Epoch 90/100\n",
            "536/536 [==============================] - 1s 2ms/step - loss: 1.1968 - accuracy: 0.0340 - val_loss: 0.3974 - val_accuracy: 0.0000e+00\n",
            "Epoch 91/100\n",
            "536/536 [==============================] - 1s 2ms/step - loss: 1.1923 - accuracy: 0.0418 - val_loss: 0.4024 - val_accuracy: 0.0731\n",
            "Epoch 92/100\n",
            "536/536 [==============================] - 1s 2ms/step - loss: 1.1901 - accuracy: 0.0679 - val_loss: 0.3980 - val_accuracy: 0.0000e+00\n",
            "Epoch 93/100\n",
            "536/536 [==============================] - 1s 2ms/step - loss: 1.2073 - accuracy: 0.0707 - val_loss: 0.4194 - val_accuracy: 0.0000e+00\n",
            "Epoch 94/100\n",
            "536/536 [==============================] - 1s 2ms/step - loss: 1.1848 - accuracy: 0.0149 - val_loss: 0.3997 - val_accuracy: 0.0000e+00\n",
            "Epoch 95/100\n",
            "536/536 [==============================] - 1s 2ms/step - loss: 1.1869 - accuracy: 0.0418 - val_loss: 0.4100 - val_accuracy: 0.0000e+00\n",
            "Epoch 96/100\n",
            "536/536 [==============================] - 1s 2ms/step - loss: 1.2115 - accuracy: 0.2334 - val_loss: 0.3981 - val_accuracy: 0.3412\n",
            "Epoch 97/100\n",
            "536/536 [==============================] - 1s 2ms/step - loss: 1.2135 - accuracy: 0.1461 - val_loss: 0.3981 - val_accuracy: 0.0909\n",
            "Epoch 98/100\n",
            "536/536 [==============================] - 1s 2ms/step - loss: 1.2047 - accuracy: 0.0739 - val_loss: 0.4103 - val_accuracy: 0.0000e+00\n",
            "Epoch 99/100\n",
            "536/536 [==============================] - 1s 2ms/step - loss: 1.1995 - accuracy: 0.0403 - val_loss: 0.4072 - val_accuracy: 0.0000e+00\n",
            "Epoch 100/100\n",
            "536/536 [==============================] - 1s 2ms/step - loss: 1.1974 - accuracy: 0.1579 - val_loss: 0.3990 - val_accuracy: 0.3226\n"
          ],
          "name": "stdout"
        }
      ]
    },
    {
      "cell_type": "code",
      "metadata": {
        "id": "bxF6b8ECu_dU",
        "colab_type": "code",
        "colab": {
          "base_uri": "https://localhost:8080/",
          "height": 34
        },
        "outputId": "d0b2ebb4-2dff-4b2b-d126-30ba8a489ad5"
      },
      "source": [
        "# list all data in history\n",
        "\n",
        "print(model_history.history.keys())\n"
      ],
      "execution_count": null,
      "outputs": [
        {
          "output_type": "stream",
          "text": [
            "dict_keys(['loss', 'accuracy', 'val_loss', 'val_accuracy'])\n"
          ],
          "name": "stdout"
        }
      ]
    },
    {
      "cell_type": "code",
      "metadata": {
        "id": "zYx9FnLZzZMi",
        "colab_type": "code",
        "colab": {
          "base_uri": "https://localhost:8080/",
          "height": 295
        },
        "outputId": "4bf2cb09-b7ea-4ce3-8c8a-b3a53b5642c9"
      },
      "source": [
        "plt.plot(model_history.history['loss'])\n",
        "plt.plot(model_history.history['val_loss'])\n",
        "plt.title('model loss')\n",
        "plt.ylabel('loss')\n",
        "plt.xlabel('epoch')\n",
        "plt.legend(['train', 'test'], loc='upper right')\n",
        "plt.show()"
      ],
      "execution_count": null,
      "outputs": [
        {
          "output_type": "display_data",
          "data": {
            "image/png": "[encoded data removed]",
            "text/plain": [
              "<Figure size 432x288 with 1 Axes>"
            ]
          },
          "metadata": {
            "tags": [],
            "needs_background": "light"
          }
        }
      ]
    },
    {
      "cell_type": "code",
      "metadata": {
        "id": "j_vVhQIMzbsW",
        "colab_type": "code",
        "colab": {}
      },
      "source": [
        "\n"
      ],
      "execution_count": null,
      "outputs": []
    },
    {
      "cell_type": "code",
      "metadata": {
        "id": "N7Rsev841pAg",
        "colab_type": "code",
        "colab": {}
      },
      "source": [
        ""
      ],
      "execution_count": null,
      "outputs": []
    }
  ]
}