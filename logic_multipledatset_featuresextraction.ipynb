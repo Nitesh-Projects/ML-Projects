{
 "cells": [
  {
   "cell_type": "code",
   "execution_count": 51,
   "metadata": {},
   "outputs": [],
   "source": [
    "#basic Idea of implimentation"
   ]
  },
  {
   "cell_type": "code",
   "execution_count": 52,
   "metadata": {},
   "outputs": [],
   "source": [
    "#In this approch i am taking columns (df.columns)as a  list and assuming we have the following columns in respective data set"
   ]
  },
  {
   "cell_type": "code",
   "execution_count": 80,
   "metadata": {},
   "outputs": [],
   "source": [
    "d0 = ['abc','PQR','xYz','def','qwedd','dvsdv','csd','eur','usd','gbp']"
   ]
  },
  {
   "cell_type": "code",
   "execution_count": 81,
   "metadata": {},
   "outputs": [],
   "source": [
    "d1 = ['abc','PQR','xYz','def','qwedd','dvsdv','csd','eur','usd','gbp','wer','yuo','zxc','tre']"
   ]
  },
  {
   "cell_type": "code",
   "execution_count": 82,
   "metadata": {},
   "outputs": [],
   "source": [
    "d2 = ['abc','PQR','xYz','def','qwedd','dvsdv','csd','eur','usd','gbp']\n",
    "d3 = ['abc','PQR','xYz','def','qwedd','dvsdv','csd','eur','usd','gbp','wer','yuo','zxc']\n",
    "d4 = ['abc','PQR','xYz','def','qwedd','dvsdv','csd','eur','usd','gbp']\n",
    "d5 = ['abc','PQR','xYz','def','qwedd','dvsdv','csd','eur','usd','gbp']\n",
    "d6 = ['abc','PQR','xYz','def','qwedd','dvsdv','csd','eur','usd','gbp','wer','yuo','zxc','tre']\n",
    "d7 = ['Abc','PQR','xYz','def','qwedd','dvsdv','csd','eur']\n",
    "d8 = ['abc','PqR','xYz','def','qwedd','dvsdv','csd','eur','usd','gbp']\n",
    "d9 = ['abc','xYz','def','qwedd','dvsdv','csd','eur','usd','gbp','jkl','ghj']\n",
    "d10 = ['abc','PQR','def','qwedd','dvsdv','csd','eur','usd','xYz','gbp']\n",
    "d11 = ['abc','PQR','xYz','def','qwedd','dvsdv','csd','eur','usd','gbp']\n",
    "d12 = ['abc','PQR','xYz','def','qwedd','dvsdv','csd','eur','usd']\n",
    "d13 = ['abc','PQR','xYz','def','qwedd','dvsdv','csd','eur','usd','gbp']\n",
    "d14  = ['abc','PQR','xYz','def','qwedd','dvsdv','csd','eur','usd','gbp']\n",
    "d15  = ['abc','PQR','xYz','def','qwedd','dvsdv','csd','eur','usd','gbp','wer','yuo','zxc','tre']"
   ]
  },
  {
   "cell_type": "code",
   "execution_count": 83,
   "metadata": {},
   "outputs": [
    {
     "data": {
      "text/plain": [
       "14"
      ]
     },
     "execution_count": 83,
     "metadata": {},
     "output_type": "execute_result"
    }
   ],
   "source": [
    "len(d1)"
   ]
  },
  {
   "cell_type": "code",
   "execution_count": 84,
   "metadata": {},
   "outputs": [
    {
     "data": {
      "text/plain": [
       "10"
      ]
     },
     "execution_count": 84,
     "metadata": {},
     "output_type": "execute_result"
    }
   ],
   "source": [
    "len(d2)"
   ]
  },
  {
   "cell_type": "code",
   "execution_count": 85,
   "metadata": {},
   "outputs": [
    {
     "name": "stdout",
     "output_type": "stream",
     "text": [
      "[1, 2, 3, 4, 33, 11, 44, 22]\n"
     ]
    }
   ],
   "source": [
    "#working of set function \n",
    "x = [1,2,3,4]\n",
    "f = [1,11,22,33,44,3,4]\n",
    "\n",
    "res = list(set(x+f))\n",
    "print(res)\n"
   ]
  },
  {
   "cell_type": "code",
   "execution_count": 86,
   "metadata": {},
   "outputs": [],
   "source": [
    "p=set(f) - set(x)"
   ]
  },
  {
   "cell_type": "code",
   "execution_count": 87,
   "metadata": {},
   "outputs": [
    {
     "data": {
      "text/plain": [
       "{11, 22, 33, 44}"
      ]
     },
     "execution_count": 87,
     "metadata": {},
     "output_type": "execute_result"
    }
   ],
   "source": [
    "p"
   ]
  },
  {
   "cell_type": "code",
   "execution_count": null,
   "metadata": {},
   "outputs": [],
   "source": []
  },
  {
   "cell_type": "code",
   "execution_count": null,
   "metadata": {},
   "outputs": [],
   "source": []
  },
  {
   "cell_type": "code",
   "execution_count": 88,
   "metadata": {},
   "outputs": [],
   "source": [
    "d20 = []"
   ]
  },
  {
   "cell_type": "code",
   "execution_count": 89,
   "metadata": {},
   "outputs": [
    {
     "name": "stdout",
     "output_type": "stream",
     "text": [
      "['abc', 'PQR', 'xYz', 'def', 'qwedd', 'dvsdv', 'csd', 'eur', 'usd', 'gbp']\n"
     ]
    }
   ],
   "source": [
    "for i in d2:\n",
    "    if i in d3 :\n",
    "        if i in d4 :\n",
    "            if i not in d20:\n",
    "                d20.append(i)\n",
    "                \n",
    "print(d20)"
   ]
  },
  {
   "cell_type": "code",
   "execution_count": 90,
   "metadata": {},
   "outputs": [],
   "source": [
    "# total columns available  in dataset"
   ]
  },
  {
   "cell_type": "code",
   "execution_count": 91,
   "metadata": {},
   "outputs": [],
   "source": [
    "res2 = list(set(d0+d1+d2+d3+d4+d5+d6+d7+d8+d9+d10+d11+d12+d13+d14+d15))"
   ]
  },
  {
   "cell_type": "code",
   "execution_count": 92,
   "metadata": {},
   "outputs": [
    {
     "data": {
      "text/plain": [
       "['PQR',\n",
       " 'eur',\n",
       " 'def',\n",
       " 'qwedd',\n",
       " 'xYz',\n",
       " 'wer',\n",
       " 'yuo',\n",
       " 'gbp',\n",
       " 'Abc',\n",
       " 'abc',\n",
       " 'tre',\n",
       " 'dvsdv',\n",
       " 'jkl',\n",
       " 'ghj',\n",
       " 'usd',\n",
       " 'zxc',\n",
       " 'PqR',\n",
       " 'csd']"
      ]
     },
     "execution_count": 92,
     "metadata": {},
     "output_type": "execute_result"
    }
   ],
   "source": [
    "res2"
   ]
  },
  {
   "cell_type": "code",
   "execution_count": 93,
   "metadata": {},
   "outputs": [
    {
     "data": {
      "text/plain": [
       "18"
      ]
     },
     "execution_count": 93,
     "metadata": {},
     "output_type": "execute_result"
    }
   ],
   "source": [
    "#total no of unique feater peesent in all the data set \n",
    "len(res2)"
   ]
  },
  {
   "cell_type": "code",
   "execution_count": 94,
   "metadata": {},
   "outputs": [],
   "source": [
    "#no. of features in each dataset\n",
    "p  = [len(d0),len(d1),len(d2),len(d3),len(d4),len(d5),len(d6),len(d7),len(d8),len(d9),len(d10),len(d11),len(d12),len(d13),len(d14),len(d15)]"
   ]
  },
  {
   "cell_type": "code",
   "execution_count": 95,
   "metadata": {},
   "outputs": [
    {
     "data": {
      "text/plain": [
       "[10, 14, 10, 13, 10, 10, 14, 8, 10, 11, 10, 10, 9, 10, 10, 14]"
      ]
     },
     "execution_count": 95,
     "metadata": {},
     "output_type": "execute_result"
    }
   ],
   "source": [
    "p"
   ]
  },
  {
   "cell_type": "code",
   "execution_count": 69,
   "metadata": {},
   "outputs": [],
   "source": [
    "q = p"
   ]
  },
  {
   "cell_type": "code",
   "execution_count": 70,
   "metadata": {},
   "outputs": [
    {
     "data": {
      "text/plain": [
       "[10, 14, 10, 13, 10, 10, 14, 9, 10, 11, 10, 10, 9, 10, 10, 14]"
      ]
     },
     "execution_count": 70,
     "metadata": {},
     "output_type": "execute_result"
    }
   ],
   "source": [
    "q"
   ]
  },
  {
   "cell_type": "code",
   "execution_count": 71,
   "metadata": {},
   "outputs": [],
   "source": [
    "q.sort()"
   ]
  },
  {
   "cell_type": "code",
   "execution_count": 72,
   "metadata": {},
   "outputs": [
    {
     "data": {
      "text/plain": [
       "[9, 9, 10, 10, 10, 10, 10, 10, 10, 10, 10, 11, 13, 14, 14, 14]"
      ]
     },
     "execution_count": 72,
     "metadata": {},
     "output_type": "execute_result"
    }
   ],
   "source": [
    "q"
   ]
  },
  {
   "cell_type": "code",
   "execution_count": 73,
   "metadata": {},
   "outputs": [
    {
     "data": {
      "text/plain": [
       "9"
      ]
     },
     "execution_count": 73,
     "metadata": {},
     "output_type": "execute_result"
    }
   ],
   "source": [
    "q[0]"
   ]
  },
  {
   "cell_type": "code",
   "execution_count": 96,
   "metadata": {},
   "outputs": [
    {
     "data": {
      "text/plain": [
       "10"
      ]
     },
     "execution_count": 96,
     "metadata": {},
     "output_type": "execute_result"
    }
   ],
   "source": [
    "from statistics import mode\n",
    "mode(p)"
   ]
  },
  {
   "cell_type": "code",
   "execution_count": 97,
   "metadata": {},
   "outputs": [
    {
     "data": {
      "text/plain": [
       "[10, 14, 10, 13, 10, 10, 14, 8, 10, 11, 10, 10, 9, 10, 10, 14]"
      ]
     },
     "execution_count": 97,
     "metadata": {},
     "output_type": "execute_result"
    }
   ],
   "source": [
    "p\n",
    "          \n",
    "            "
   ]
  },
  {
   "cell_type": "code",
   "execution_count": 98,
   "metadata": {},
   "outputs": [
    {
     "data": {
      "text/plain": [
       "16"
      ]
     },
     "execution_count": 98,
     "metadata": {},
     "output_type": "execute_result"
    }
   ],
   "source": [
    "lenght = len(p)\n",
    "lenght  \n",
    "   \n",
    "        "
   ]
  },
  {
   "cell_type": "code",
   "execution_count": 99,
   "metadata": {},
   "outputs": [
    {
     "name": "stdout",
     "output_type": "stream",
     "text": [
      "0\n",
      "2\n",
      "4\n",
      "5\n",
      "8\n",
      "10\n",
      "11\n",
      "13\n",
      "14\n"
     ]
    }
   ],
   "source": [
    "for i in range(lenght):\n",
    "    if p[i]==10:\n",
    "        print(i)\n",
    "\n",
    "    "
   ]
  },
  {
   "cell_type": "code",
   "execution_count": 100,
   "metadata": {},
   "outputs": [],
   "source": [
    "# as these values represent the data set number so correspond to data set so for model the following data set will be selected:"
   ]
  },
  {
   "cell_type": "code",
   "execution_count": 101,
   "metadata": {},
   "outputs": [],
   "source": [
    "# d0 ,d2,d4,d5,d8,d10,d11,d3,d14 ==>selected"
   ]
  },
  {
   "cell_type": "code",
   "execution_count": null,
   "metadata": {},
   "outputs": [],
   "source": []
  },
  {
   "cell_type": "code",
   "execution_count": null,
   "metadata": {},
   "outputs": [],
   "source": []
  },
  {
   "cell_type": "code",
   "execution_count": null,
   "metadata": {},
   "outputs": [],
   "source": []
  },
  {
   "cell_type": "code",
   "execution_count": null,
   "metadata": {},
   "outputs": [],
   "source": []
  }
 ],
 "metadata": {
  "kernelspec": {
   "display_name": "Python 3",
   "language": "python",
   "name": "python3"
  },
  "language_info": {
   "codemirror_mode": {
    "name": "ipython",
    "version": 3
   },
   "file_extension": ".py",
   "mimetype": "text/x-python",
   "name": "python",
   "nbconvert_exporter": "python",
   "pygments_lexer": "ipython3",
   "version": "3.7.4"
  }
 },
 "nbformat": 4,
 "nbformat_minor": 2
}
